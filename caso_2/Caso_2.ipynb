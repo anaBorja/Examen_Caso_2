{
 "cells": [
  {
   "cell_type": "markdown",
   "metadata": {
    "application/vnd.databricks.v1+cell": {
     "cellMetadata": {},
     "inputWidgets": {},
     "nuid": "7bc88472-0819-44bb-a870-05c265cca4c5",
     "showTitle": false,
     "tableResultSettingsMap": {},
     "title": ""
    }
   },
   "source": [
    "# Encontrando insights de la UEFA Champions League"
   ]
  },
  {
   "cell_type": "markdown",
   "metadata": {
    "application/vnd.databricks.v1+cell": {
     "cellMetadata": {},
     "inputWidgets": {},
     "nuid": "dec9c196-3f29-444f-a2f7-13e3827b29ef",
     "showTitle": false,
     "tableResultSettingsMap": {},
     "title": ""
    }
   },
   "source": [
    "La Liga de Campeones de la UEFA, a menudo llamada Liga de Campeones, es una competencia anual de fútbol por excelencia que cautiva a los fanáticos de todo el mundo. Establecida en 1955 como la Copa de Clubes Campeones de Europa, evolucionó a la Liga de Campeones de la UEFA en 1992, ampliando su atractivo. El formato moderno cuenta con 32 equipos de clubes de primer nivel seleccionados en función de su desempeño en la liga nacional, lo que aumenta la intriga.  \n",
    "\n",
    "Este evento electrizante trasciende los deportes y se convierte en una celebración de la unidad, la cultura y el orgullo nacional. Los fanáticos, vestidos con los colores de sus países, crean una atmósfera eléctrica, lo que hace que el torneo sea tanto sobre los espectadores como sobre los jugadores. Financieramente, la Liga de Campeones es un salvavidas para los clubes, ya que aumenta los ingresos y ofrece oportunidades transformadoras. Sin embargo, genera debates sobre las disparidades de riqueza en el fútbol europeo.  \n",
    "\n",
    "La Liga de Campeones es sinónimo de rivalidades históricas, triunfos de los desvalidos y brillantez individual. Para los jugadores, representa la cima de su carrera, mientras que para los fanáticos, es un fenómeno cultural. El himno y los rituales icónicos enriquecen la experiencia futbolística. En 200 palabras, la UEFA Champions League es el epítome de la excelencia del fútbol europeo, que ofrece momentos inolvidables, recompensas económicas y un impacto cultural único, con 32 clubes de primer nivel que se suman a su atractivo."
   ]
  },
  {
   "cell_type": "markdown",
   "metadata": {
    "application/vnd.databricks.v1+cell": {
     "cellMetadata": {},
     "inputWidgets": {},
     "nuid": "3ff8fe53-6686-4ae2-8c5b-662e85535ff5",
     "showTitle": false,
     "tableResultSettingsMap": {},
     "title": ""
    }
   },
   "source": [
    "**Nombres de las tablas o ficheros a utilizar**:  \n",
    "[uefa_2020.csv](https://tajamar365.sharepoint.com/:x:/s/3405-MasterIA2024-2025/EQuW8d16tZJKpYZN6jR480sBgc1IYypAw9hGHKQARS560g?e=7TybBU)  \n",
    "[uefa_2021.csv](https://tajamar365.sharepoint.com/:x:/s/3405-MasterIA2024-2025/ESG8YBrjD3tBky3aGT0MwIABNt_PQxFVVYVlWMnZYUmV8g?e=VrYHtX)  \n",
    "[uefa_2022.csv](https://tajamar365.sharepoint.com/:x:/s/3405-MasterIA2024-2025/Ecf8O8U8sxJLoW9Bkd2ZVzgBb_gZc35mNcprnR9FMlzliQ?e=Vn3a6v)  \n",
    "- Todas las tablas tienen las mismas columnas y data types"
   ]
  },
  {
   "cell_type": "markdown",
   "metadata": {
    "application/vnd.databricks.v1+cell": {
     "cellMetadata": {},
     "inputWidgets": {},
     "nuid": "910b06ac-21ef-4f0c-bb95-9611f90d7635",
     "showTitle": false,
     "tableResultSettingsMap": {},
     "title": ""
    }
   },
   "source": [
    "| Column | Definition | Data type |\n",
    "|--------|------------|-----------|\n",
    "| `STAGE`| Stage of the March | `VARCHAR(50)` |\n",
    "| `DATE` | When the match occurred. | `DATE` |\n",
    "| `PENS` | Did the match end with penalty | `VARCHAR(50)` |\n",
    "| `PENS_HOME_SCORE` | In case of penalty, score by home team | `VARCHAR(50)` |\n",
    "| `PENS_AWAY_SCORE` | In case of penalty, score by away team | `VARCHAR(50)` |\n",
    "| `TEAM_NAME_HOME` | Team home name | `VARCHAR(50)` |\n",
    "| `TEAM_NAME_AWAY`| Team away  name | `VARCHAR(50)` |\n",
    "| `TEAM_HOME_SCORE` | Team home score | `NUMBER` |\n",
    "| `TEAM_AWAY_SCORE` | Team away score | `NUMBER` |\n",
    "| `POSSESSION_HOME` | Ball possession for the home team | `FLOAT` |\n",
    "| `POSSESSION_AWAY` | Ball possession for the away team | `FLOAT` |\n",
    "| `TOTAL_SHOTS_HOME` | Number of shots by the home team | `NUMBER` |\n",
    "| `TOTAL_SHOTS_AWAY` | Number of shots by the away team | `NUMBER`\n",
    "| `SHOTS_ON_TARGET_HOME` | Total shot for home team | `FLOAT` |\n",
    "| `SHOTS_ON_TARGET_AWAY` | Total shot for away team | `FLOAT` |\n",
    "| `DUELS_WON_HOME` | duel win possession of ball - for home team | `NUMBER` |\n",
    "| `DUELS_WON_AWAY` | duel win possession of ball - for away team | `NUMBER` \n",
    "| `PREDICTION_TEAM_HOME_WIN` | Probability of home team to win | `FLOAT` |\n",
    "| `PREDICTION_DRAW` | Probability of draw | `FLOAT` |\n",
    "| `PREDICTION_TEAM_AWAY_WIN` | Probability of away team to win | `FLOAT` |\n",
    "| `LOCATION` | Stadium where the match was held | `VARCHAR(50)` |"
   ]
  },
  {
   "cell_type": "markdown",
   "metadata": {
    "application/vnd.databricks.v1+cell": {
     "cellMetadata": {},
     "inputWidgets": {},
     "nuid": "b6ed3067-8a31-45a7-9120-766336560fef",
     "showTitle": false,
     "tableResultSettingsMap": {},
     "title": ""
    }
   },
   "source": [
    "### Requerimientos:  \n",
    "-Puedes utilizar SQL o PySpark"
   ]
  },
  {
   "cell_type": "markdown",
   "metadata": {
    "application/vnd.databricks.v1+cell": {
     "cellMetadata": {},
     "inputWidgets": {},
     "nuid": "96872dad-7ed6-4372-84e9-763aa2d6c83f",
     "showTitle": false,
     "tableResultSettingsMap": {},
     "title": ""
    }
   },
   "source": [
    "1. Encuentra los 3 equipos que anotaron más goles jugando en su estadio en la UEFA Champions League 2020-21. El resultado debe contener dos columnas: TEAM_NAME_HOME y TEAM_HOME_SCORE ordenadas en orden descendente de TEAM_HOME_SCORE. Guarda la consulta (o el notebook) como TEAM_HOME_WITH_MOST_GOALS."
   ]
  },
  {
   "cell_type": "markdown",
   "metadata": {
    "application/vnd.databricks.v1+cell": {
     "cellMetadata": {},
     "inputWidgets": {},
     "nuid": "b375e92e-5c96-4ee8-8c35-29b8e7ab887f",
     "showTitle": false,
     "tableResultSettingsMap": {},
     "title": ""
    }
   },
   "source": [
    "2. Encuentra el equipo con posesión mayoritaria la mayor cantidad de veces durante la UEFA Champions League 2021-22. El resultado debe incluir dos columnas: TEAM_NAME y GAME_COUNT, que es la cantidad de veces que el equipo tuvo posesión mayoritaria durante un partido de fútbol. Guarda esta consulta (o el notebook) como TEAM_WITH_MAJORITY_POSSESSION"
   ]
  },
  {
   "cell_type": "markdown",
   "metadata": {
    "application/vnd.databricks.v1+cell": {
     "cellMetadata": {},
     "inputWidgets": {},
     "nuid": "7c960a38-f12d-4b88-aaad-b70de0c2323f",
     "showTitle": false,
     "tableResultSettingsMap": {},
     "title": ""
    }
   },
   "source": [
    "3. Encuentra la lista de equipos de cada fase del juego que ganaron el duelo en un partido pero terminaron perdiendo el juego en el Campeonato de la UEFA 2022-23. El resultado debe contener dos columnas: STAGE y TEAM_LOST. Guarda la consulta (o el notebook) como TEAM_WON_DUEL_LOST_GAME_STAGE_WISE."
   ]
  },
  {
   "cell_type": "code",
   "execution_count": 0,
   "metadata": {
    "application/vnd.databricks.v1+cell": {
     "cellMetadata": {
      "byteLimit": 2048000,
      "rowLimit": 10000
     },
     "inputWidgets": {},
     "nuid": "5b5a904a-58be-4e45-8a29-d16b3b8fa65f",
     "showTitle": false,
     "tableResultSettingsMap": {},
     "title": ""
    }
   },
   "outputs": [],
   "source": [
    "from pyspark.sql import (\n",
    "    SparkSession,\n",
    "    types,\n",
    "    functions as F,\n",
    ")\n",
    "\n",
    "spark = (\n",
    "    SparkSession\n",
    "    .builder\n",
    "    .appName('cleaning_orders_dataset_with_pyspark')\n",
    "    .getOrCreate()\n",
    ")"
   ]
  },
  {
   "cell_type": "code",
   "execution_count": 0,
   "metadata": {
    "application/vnd.databricks.v1+cell": {
     "cellMetadata": {
      "byteLimit": 2048000,
      "rowLimit": 10000
     },
     "inputWidgets": {},
     "nuid": "c7ccf0bc-595f-473b-9b74-37e13913bda2",
     "showTitle": false,
     "tableResultSettingsMap": {},
     "title": ""
    }
   },
   "outputs": [],
   "source": [
    "df = spark.read.csv(\"/FileStore/caso_2/uefa_2020.csv\", header=True)\n",
    "df1 = spark.read.csv(\"/FileStore/caso_2/uefa_2021.csv\", header=True)"
   ]
  },
  {
   "cell_type": "code",
   "execution_count": 0,
   "metadata": {
    "application/vnd.databricks.v1+cell": {
     "cellMetadata": {
      "byteLimit": 2048000,
      "rowLimit": 10000
     },
     "inputWidgets": {},
     "nuid": "eefc443e-ce32-47c6-8e5b-e6bc7b2583da",
     "showTitle": false,
     "tableResultSettingsMap": {},
     "title": ""
    }
   },
   "outputs": [
    {
     "output_type": "display_data",
     "data": {
      "text/html": [
       "<style scoped>\n",
       "  .table-result-container {\n",
       "    max-height: 300px;\n",
       "    overflow: auto;\n",
       "  }\n",
       "  table, th, td {\n",
       "    border: 1px solid black;\n",
       "    border-collapse: collapse;\n",
       "  }\n",
       "  th, td {\n",
       "    padding: 5px;\n",
       "  }\n",
       "  th {\n",
       "    text-align: left;\n",
       "  }\n",
       "</style><div class='table-result-container'><table class='table-result'><thead style='background-color: white'><tr><th>TEAM_NAME_HOME</th><th>TEAM_HOME_SCORE</th><th>TEAM_NAME_AWAY</th><th>TEAM_AWAY_SCORE</th></tr></thead><tbody><tr><td> Manchester City </td><td>0</td><td> Chelsea </td><td>1</td></tr><tr><td> Chelsea </td><td>2</td><td> Real Madrid </td><td>0</td></tr><tr><td> Manchester City </td><td>2</td><td> PSG </td><td>0</td></tr><tr><td> PSG </td><td>1</td><td> Manchester City </td><td>2</td></tr><tr><td> Real Madrid </td><td>1</td><td> Chelsea </td><td>1</td></tr><tr><td> Liverpool </td><td>0</td><td> Real Madrid </td><td>0</td></tr><tr><td> Borussia Dortmund </td><td>1</td><td> Manchester City </td><td>2</td></tr><tr><td> PSG </td><td>0</td><td> Bayern Munich </td><td>1</td></tr><tr><td> Chelsea </td><td>0</td><td> FC Porto </td><td>1</td></tr><tr><td> FC Porto </td><td>0</td><td> Chelsea </td><td>2</td></tr><tr><td> Bayern Munich </td><td>2</td><td> PSG </td><td>3</td></tr><tr><td> Real Madrid </td><td>3</td><td> Liverpool </td><td>1</td></tr><tr><td> Manchester City </td><td>2</td><td> Borussia Dortmund </td><td>1</td></tr><tr><td> Chelsea </td><td>2</td><td> Atlético Madrid </td><td>0</td></tr><tr><td> Bayern Munich </td><td>2</td><td> Lazio </td><td>1</td></tr><tr><td> Manchester City </td><td>2</td><td> B. M‘Gladbach </td><td>0</td></tr><tr><td> Real Madrid </td><td>3</td><td> Atalanta </td><td>1</td></tr><tr><td> PSG </td><td>1</td><td> Barcelona </td><td>1</td></tr><tr><td> Liverpool </td><td>2</td><td> RB Leipzig </td><td>0</td></tr><tr><td> Juventus </td><td>3</td><td> FC Porto </td><td>2</td></tr><tr><td> Borussia Dortmund </td><td>2</td><td> Sevilla </td><td>2</td></tr><tr><td> Atalanta </td><td>0</td><td> Real Madrid </td><td>1</td></tr><tr><td> B. M‘Gladbach </td><td>0</td><td> Manchester City </td><td>2</td></tr><tr><td> Atlético Madrid </td><td>0</td><td> Chelsea </td><td>1</td></tr><tr><td> Lazio </td><td>1</td><td> Bayern Munich </td><td>4</td></tr><tr><td> FC Porto </td><td>2</td><td> Juventus </td><td>1</td></tr><tr><td> Sevilla </td><td>2</td><td> Borussia Dortmund </td><td>3</td></tr><tr><td> Barcelona </td><td>1</td><td> PSG </td><td>4</td></tr><tr><td> RB Leipzig </td><td>0</td><td> Liverpool </td><td>2</td></tr><tr><td> Real Madrid </td><td>2</td><td> B. M‘Gladbach </td><td>0</td></tr><tr><td> Bayern Munich </td><td>2</td><td> Lokomotiv Moscow </td><td>0</td></tr><tr><td> Salzburg </td><td>0</td><td> Atlético Madrid </td><td>2</td></tr><tr><td> Inter </td><td>0</td><td> Shakhtar Donetsk </td><td>0</td></tr><tr><td> Olympiacos </td><td>0</td><td> FC Porto </td><td>2</td></tr><tr><td> Manchester City </td><td>3</td><td> Marseille </td><td>0</td></tr><tr><td> PSG </td><td>5</td><td> İstanbul Başakşehir </td><td>1</td></tr><tr><td> Ajax </td><td>0</td><td> Atalanta </td><td>1</td></tr><tr><td> Midtjylland </td><td>1</td><td> Liverpool </td><td>1</td></tr><tr><td> Barcelona </td><td>0</td><td> Juventus </td><td>3</td></tr><tr><td> Chelsea </td><td>1</td><td> Krasnodar </td><td>1</td></tr><tr><td> Dynamo Kyiv </td><td>1</td><td> Ferencváros </td><td>0</td></tr><tr><td> RB Leipzig </td><td>3</td><td> Manchester United </td><td>2</td></tr><tr><td> Rennes </td><td>1</td><td> Sevilla </td><td>3</td></tr><tr><td> Zenit </td><td>1</td><td> Borussia Dortmund </td><td>2</td></tr><tr><td> Lazio </td><td>2</td><td> Club Brugge </td><td>2</td></tr><tr><td> Borussia Dortmund </td><td>1</td><td> Lazio </td><td>1</td></tr><tr><td> Club Brugge </td><td>3</td><td> Zenit </td><td>0</td></tr><tr><td> Ferencváros </td><td>0</td><td> Barcelona </td><td>3</td></tr><tr><td> Juventus </td><td>3</td><td> Dynamo Kyiv </td><td>0</td></tr><tr><td> Manchester United </td><td>1</td><td> PSG </td><td>3</td></tr><tr><td> Sevilla </td><td>0</td><td> Chelsea </td><td>4</td></tr><tr><td> Krasnodar </td><td>1</td><td> Rennes </td><td>0</td></tr><tr><td> İstanbul Başakşehir </td><td>3</td><td> RB Leipzig </td><td>4</td></tr><tr><td> Atlético Madrid </td><td>1</td><td> Bayern Munich </td><td>1</td></tr><tr><td> B. M‘Gladbach </td><td>2</td><td> Inter </td><td>3</td></tr><tr><td> FC Porto </td><td>0</td><td> Manchester City </td><td>0</td></tr><tr><td> Liverpool </td><td>1</td><td> Ajax </td><td>0</td></tr><tr><td> Atalanta </td><td>1</td><td> Midtjylland </td><td>1</td></tr><tr><td> Marseille </td><td>2</td><td> Olympiacos </td><td>1</td></tr><tr><td> Lokomotiv Moscow </td><td>1</td><td> Salzburg </td><td>3</td></tr><tr><td> Shakhtar Donetsk </td><td>2</td><td> Real Madrid </td><td>0</td></tr><tr><td> Inter </td><td>0</td><td> Real Madrid </td><td>2</td></tr><tr><td> Bayern Munich </td><td>3</td><td> Salzburg </td><td>1</td></tr><tr><td> Atlético Madrid </td><td>0</td><td> Lokomotiv Moscow </td><td>0</td></tr><tr><td> Marseille </td><td>0</td><td> FC Porto </td><td>2</td></tr><tr><td> Liverpool </td><td>0</td><td> Atalanta </td><td>2</td></tr><tr><td> Ajax </td><td>3</td><td> Midtjylland </td><td>1</td></tr><tr><td> B. M‘Gladbach </td><td>4</td><td> Shakhtar Donetsk </td><td>0</td></tr><tr><td> Olympiacos </td><td>0</td><td> Manchester City </td><td>1</td></tr><tr><td> Borussia Dortmund </td><td>3</td><td> Club Brugge </td><td>0</td></tr><tr><td> Dynamo Kyiv </td><td>0</td><td> Barcelona </td><td>4</td></tr><tr><td> Juventus </td><td>2</td><td> Ferencváros </td><td>1</td></tr><tr><td> Lazio </td><td>3</td><td> Zenit </td><td>1</td></tr><tr><td> Manchester United </td><td>4</td><td> İstanbul Başakşehir </td><td>1</td></tr><tr><td> PSG </td><td>1</td><td> RB Leipzig </td><td>0</td></tr><tr><td> Krasnodar </td><td>1</td><td> Sevilla </td><td>2</td></tr><tr><td> Rennes </td><td>1</td><td> Chelsea </td><td>2</td></tr><tr><td> Sevilla </td><td>3</td><td> Krasnodar </td><td>2</td></tr><tr><td> Chelsea </td><td>3</td><td> Rennes </td><td>0</td></tr><tr><td> Club Brugge </td><td>0</td><td> Borussia Dortmund </td><td>3</td></tr><tr><td> Barcelona </td><td>2</td><td> Dynamo Kyiv </td><td>1</td></tr><tr><td> RB Leipzig </td><td>2</td><td> PSG </td><td>1</td></tr><tr><td> Ferencváros </td><td>1</td><td> Juventus </td><td>4</td></tr><tr><td> İstanbul Başakşehir </td><td>2</td><td> Manchester United </td><td>1</td></tr><tr><td> Zenit </td><td>1</td><td> Lazio </td><td>1</td></tr><tr><td> Midtjylland </td><td>1</td><td> Ajax </td><td>2</td></tr><tr><td> FC Porto </td><td>3</td><td> Marseille </td><td>0</td></tr><tr><td> Salzburg </td><td>2</td><td> Bayern Munich </td><td>6</td></tr><tr><td> Manchester City </td><td>3</td><td> Olympiacos </td><td>0</td></tr><tr><td> Real Madrid </td><td>3</td><td> Inter </td><td>2</td></tr><tr><td> Atalanta </td><td>0</td><td> Liverpool </td><td>5</td></tr><tr><td> Lokomotiv Moscow </td><td>1</td><td> Atlético Madrid </td><td>1</td></tr><tr><td> Shakhtar Donetsk </td><td>0</td><td> B. M‘Gladbach </td><td>6</td></tr><tr><td> Sevilla </td><td>1</td><td> Rennes </td><td>0</td></tr><tr><td> Club Brugge </td><td>1</td><td> Lazio </td><td>1</td></tr><tr><td> Ferencváros </td><td>2</td><td> Dynamo Kyiv </td><td>2</td></tr><tr><td> Borussia Dortmund </td><td>2</td><td> Zenit </td><td>0</td></tr><tr><td> Manchester United </td><td>5</td><td> RB Leipzig </td><td>0</td></tr><tr><td> Juventus </td><td>0</td><td> Barcelona </td><td>2</td></tr><tr><td> Krasnodar </td><td>0</td><td> Chelsea </td><td>4</td></tr><tr><td> İstanbul Başakşehir </td><td>0</td><td> PSG </td><td>2</td></tr><tr><td> Atalanta </td><td>2</td><td> Ajax </td><td>2</td></tr><tr><td> Atlético Madrid </td><td>3</td><td> Salzburg </td><td>2</td></tr><tr><td> B. M‘Gladbach </td><td>2</td><td> Real Madrid </td><td>2</td></tr><tr><td> FC Porto </td><td>2</td><td> Olympiacos </td><td>0</td></tr><tr><td> Liverpool </td><td>2</td><td> Midtjylland </td><td>0</td></tr><tr><td> Marseille </td><td>0</td><td> Manchester City </td><td>3</td></tr><tr><td> Lokomotiv Moscow </td><td>1</td><td> Bayern Munich </td><td>2</td></tr><tr><td> Shakhtar Donetsk </td><td>0</td><td> Inter </td><td>0</td></tr><tr><td> Ajax </td><td>0</td><td> Liverpool </td><td>1</td></tr><tr><td> Olympiacos </td><td>1</td><td> Marseille </td><td>0</td></tr><tr><td> Midtjylland </td><td>0</td><td> Atalanta </td><td>4</td></tr><tr><td> Manchester City </td><td>3</td><td> FC Porto </td><td>1</td></tr><tr><td> Inter </td><td>2</td><td> B. M‘Gladbach </td><td>2</td></tr><tr><td> Bayern Munich </td><td>4</td><td> Atlético Madrid </td><td>0</td></tr><tr><td> Salzburg </td><td>2</td><td> Lokomotiv Moscow </td><td>2</td></tr><tr><td> Real Madrid </td><td>2</td><td> Shakhtar Donetsk </td><td>3</td></tr><tr><td> Chelsea </td><td>0</td><td> Sevilla </td><td>0</td></tr><tr><td> PSG </td><td>1</td><td> Manchester United </td><td>2</td></tr><tr><td> RB Leipzig </td><td>2</td><td> İstanbul Başakşehir </td><td>0</td></tr><tr><td> Rennes </td><td>1</td><td> Krasnodar </td><td>1</td></tr><tr><td> Barcelona </td><td>5</td><td> Ferencváros </td><td>1</td></tr><tr><td> Lazio </td><td>3</td><td> Borussia Dortmund </td><td>1</td></tr><tr><td> Zenit </td><td>1</td><td> Club Brugge </td><td>2</td></tr><tr><td> Dynamo Kyiv </td><td>0</td><td> Juventus </td><td>2</td></tr></tbody></table></div>"
      ]
     },
     "metadata": {
      "application/vnd.databricks.v1+output": {
       "addedWidgets": {},
       "aggData": [],
       "aggError": "",
       "aggOverflow": false,
       "aggSchema": [],
       "aggSeriesLimitReached": false,
       "aggType": "",
       "arguments": {},
       "columnCustomDisplayInfos": {},
       "data": [
        [
         " Manchester City ",
         "0",
         " Chelsea ",
         "1"
        ],
        [
         " Chelsea ",
         "2",
         " Real Madrid ",
         "0"
        ],
        [
         " Manchester City ",
         "2",
         " PSG ",
         "0"
        ],
        [
         " PSG ",
         "1",
         " Manchester City ",
         "2"
        ],
        [
         " Real Madrid ",
         "1",
         " Chelsea ",
         "1"
        ],
        [
         " Liverpool ",
         "0",
         " Real Madrid ",
         "0"
        ],
        [
         " Borussia Dortmund ",
         "1",
         " Manchester City ",
         "2"
        ],
        [
         " PSG ",
         "0",
         " Bayern Munich ",
         "1"
        ],
        [
         " Chelsea ",
         "0",
         " FC Porto ",
         "1"
        ],
        [
         " FC Porto ",
         "0",
         " Chelsea ",
         "2"
        ],
        [
         " Bayern Munich ",
         "2",
         " PSG ",
         "3"
        ],
        [
         " Real Madrid ",
         "3",
         " Liverpool ",
         "1"
        ],
        [
         " Manchester City ",
         "2",
         " Borussia Dortmund ",
         "1"
        ],
        [
         " Chelsea ",
         "2",
         " Atlético Madrid ",
         "0"
        ],
        [
         " Bayern Munich ",
         "2",
         " Lazio ",
         "1"
        ],
        [
         " Manchester City ",
         "2",
         " B. M‘Gladbach ",
         "0"
        ],
        [
         " Real Madrid ",
         "3",
         " Atalanta ",
         "1"
        ],
        [
         " PSG ",
         "1",
         " Barcelona ",
         "1"
        ],
        [
         " Liverpool ",
         "2",
         " RB Leipzig ",
         "0"
        ],
        [
         " Juventus ",
         "3",
         " FC Porto ",
         "2"
        ],
        [
         " Borussia Dortmund ",
         "2",
         " Sevilla ",
         "2"
        ],
        [
         " Atalanta ",
         "0",
         " Real Madrid ",
         "1"
        ],
        [
         " B. M‘Gladbach ",
         "0",
         " Manchester City ",
         "2"
        ],
        [
         " Atlético Madrid ",
         "0",
         " Chelsea ",
         "1"
        ],
        [
         " Lazio ",
         "1",
         " Bayern Munich ",
         "4"
        ],
        [
         " FC Porto ",
         "2",
         " Juventus ",
         "1"
        ],
        [
         " Sevilla ",
         "2",
         " Borussia Dortmund ",
         "3"
        ],
        [
         " Barcelona ",
         "1",
         " PSG ",
         "4"
        ],
        [
         " RB Leipzig ",
         "0",
         " Liverpool ",
         "2"
        ],
        [
         " Real Madrid ",
         "2",
         " B. M‘Gladbach ",
         "0"
        ],
        [
         " Bayern Munich ",
         "2",
         " Lokomotiv Moscow ",
         "0"
        ],
        [
         " Salzburg ",
         "0",
         " Atlético Madrid ",
         "2"
        ],
        [
         " Inter ",
         "0",
         " Shakhtar Donetsk ",
         "0"
        ],
        [
         " Olympiacos ",
         "0",
         " FC Porto ",
         "2"
        ],
        [
         " Manchester City ",
         "3",
         " Marseille ",
         "0"
        ],
        [
         " PSG ",
         "5",
         " İstanbul Başakşehir ",
         "1"
        ],
        [
         " Ajax ",
         "0",
         " Atalanta ",
         "1"
        ],
        [
         " Midtjylland ",
         "1",
         " Liverpool ",
         "1"
        ],
        [
         " Barcelona ",
         "0",
         " Juventus ",
         "3"
        ],
        [
         " Chelsea ",
         "1",
         " Krasnodar ",
         "1"
        ],
        [
         " Dynamo Kyiv ",
         "1",
         " Ferencváros ",
         "0"
        ],
        [
         " RB Leipzig ",
         "3",
         " Manchester United ",
         "2"
        ],
        [
         " Rennes ",
         "1",
         " Sevilla ",
         "3"
        ],
        [
         " Zenit ",
         "1",
         " Borussia Dortmund ",
         "2"
        ],
        [
         " Lazio ",
         "2",
         " Club Brugge ",
         "2"
        ],
        [
         " Borussia Dortmund ",
         "1",
         " Lazio ",
         "1"
        ],
        [
         " Club Brugge ",
         "3",
         " Zenit ",
         "0"
        ],
        [
         " Ferencváros ",
         "0",
         " Barcelona ",
         "3"
        ],
        [
         " Juventus ",
         "3",
         " Dynamo Kyiv ",
         "0"
        ],
        [
         " Manchester United ",
         "1",
         " PSG ",
         "3"
        ],
        [
         " Sevilla ",
         "0",
         " Chelsea ",
         "4"
        ],
        [
         " Krasnodar ",
         "1",
         " Rennes ",
         "0"
        ],
        [
         " İstanbul Başakşehir ",
         "3",
         " RB Leipzig ",
         "4"
        ],
        [
         " Atlético Madrid ",
         "1",
         " Bayern Munich ",
         "1"
        ],
        [
         " B. M‘Gladbach ",
         "2",
         " Inter ",
         "3"
        ],
        [
         " FC Porto ",
         "0",
         " Manchester City ",
         "0"
        ],
        [
         " Liverpool ",
         "1",
         " Ajax ",
         "0"
        ],
        [
         " Atalanta ",
         "1",
         " Midtjylland ",
         "1"
        ],
        [
         " Marseille ",
         "2",
         " Olympiacos ",
         "1"
        ],
        [
         " Lokomotiv Moscow ",
         "1",
         " Salzburg ",
         "3"
        ],
        [
         " Shakhtar Donetsk ",
         "2",
         " Real Madrid ",
         "0"
        ],
        [
         " Inter ",
         "0",
         " Real Madrid ",
         "2"
        ],
        [
         " Bayern Munich ",
         "3",
         " Salzburg ",
         "1"
        ],
        [
         " Atlético Madrid ",
         "0",
         " Lokomotiv Moscow ",
         "0"
        ],
        [
         " Marseille ",
         "0",
         " FC Porto ",
         "2"
        ],
        [
         " Liverpool ",
         "0",
         " Atalanta ",
         "2"
        ],
        [
         " Ajax ",
         "3",
         " Midtjylland ",
         "1"
        ],
        [
         " B. M‘Gladbach ",
         "4",
         " Shakhtar Donetsk ",
         "0"
        ],
        [
         " Olympiacos ",
         "0",
         " Manchester City ",
         "1"
        ],
        [
         " Borussia Dortmund ",
         "3",
         " Club Brugge ",
         "0"
        ],
        [
         " Dynamo Kyiv ",
         "0",
         " Barcelona ",
         "4"
        ],
        [
         " Juventus ",
         "2",
         " Ferencváros ",
         "1"
        ],
        [
         " Lazio ",
         "3",
         " Zenit ",
         "1"
        ],
        [
         " Manchester United ",
         "4",
         " İstanbul Başakşehir ",
         "1"
        ],
        [
         " PSG ",
         "1",
         " RB Leipzig ",
         "0"
        ],
        [
         " Krasnodar ",
         "1",
         " Sevilla ",
         "2"
        ],
        [
         " Rennes ",
         "1",
         " Chelsea ",
         "2"
        ],
        [
         " Sevilla ",
         "3",
         " Krasnodar ",
         "2"
        ],
        [
         " Chelsea ",
         "3",
         " Rennes ",
         "0"
        ],
        [
         " Club Brugge ",
         "0",
         " Borussia Dortmund ",
         "3"
        ],
        [
         " Barcelona ",
         "2",
         " Dynamo Kyiv ",
         "1"
        ],
        [
         " RB Leipzig ",
         "2",
         " PSG ",
         "1"
        ],
        [
         " Ferencváros ",
         "1",
         " Juventus ",
         "4"
        ],
        [
         " İstanbul Başakşehir ",
         "2",
         " Manchester United ",
         "1"
        ],
        [
         " Zenit ",
         "1",
         " Lazio ",
         "1"
        ],
        [
         " Midtjylland ",
         "1",
         " Ajax ",
         "2"
        ],
        [
         " FC Porto ",
         "3",
         " Marseille ",
         "0"
        ],
        [
         " Salzburg ",
         "2",
         " Bayern Munich ",
         "6"
        ],
        [
         " Manchester City ",
         "3",
         " Olympiacos ",
         "0"
        ],
        [
         " Real Madrid ",
         "3",
         " Inter ",
         "2"
        ],
        [
         " Atalanta ",
         "0",
         " Liverpool ",
         "5"
        ],
        [
         " Lokomotiv Moscow ",
         "1",
         " Atlético Madrid ",
         "1"
        ],
        [
         " Shakhtar Donetsk ",
         "0",
         " B. M‘Gladbach ",
         "6"
        ],
        [
         " Sevilla ",
         "1",
         " Rennes ",
         "0"
        ],
        [
         " Club Brugge ",
         "1",
         " Lazio ",
         "1"
        ],
        [
         " Ferencváros ",
         "2",
         " Dynamo Kyiv ",
         "2"
        ],
        [
         " Borussia Dortmund ",
         "2",
         " Zenit ",
         "0"
        ],
        [
         " Manchester United ",
         "5",
         " RB Leipzig ",
         "0"
        ],
        [
         " Juventus ",
         "0",
         " Barcelona ",
         "2"
        ],
        [
         " Krasnodar ",
         "0",
         " Chelsea ",
         "4"
        ],
        [
         " İstanbul Başakşehir ",
         "0",
         " PSG ",
         "2"
        ],
        [
         " Atalanta ",
         "2",
         " Ajax ",
         "2"
        ],
        [
         " Atlético Madrid ",
         "3",
         " Salzburg ",
         "2"
        ],
        [
         " B. M‘Gladbach ",
         "2",
         " Real Madrid ",
         "2"
        ],
        [
         " FC Porto ",
         "2",
         " Olympiacos ",
         "0"
        ],
        [
         " Liverpool ",
         "2",
         " Midtjylland ",
         "0"
        ],
        [
         " Marseille ",
         "0",
         " Manchester City ",
         "3"
        ],
        [
         " Lokomotiv Moscow ",
         "1",
         " Bayern Munich ",
         "2"
        ],
        [
         " Shakhtar Donetsk ",
         "0",
         " Inter ",
         "0"
        ],
        [
         " Ajax ",
         "0",
         " Liverpool ",
         "1"
        ],
        [
         " Olympiacos ",
         "1",
         " Marseille ",
         "0"
        ],
        [
         " Midtjylland ",
         "0",
         " Atalanta ",
         "4"
        ],
        [
         " Manchester City ",
         "3",
         " FC Porto ",
         "1"
        ],
        [
         " Inter ",
         "2",
         " B. M‘Gladbach ",
         "2"
        ],
        [
         " Bayern Munich ",
         "4",
         " Atlético Madrid ",
         "0"
        ],
        [
         " Salzburg ",
         "2",
         " Lokomotiv Moscow ",
         "2"
        ],
        [
         " Real Madrid ",
         "2",
         " Shakhtar Donetsk ",
         "3"
        ],
        [
         " Chelsea ",
         "0",
         " Sevilla ",
         "0"
        ],
        [
         " PSG ",
         "1",
         " Manchester United ",
         "2"
        ],
        [
         " RB Leipzig ",
         "2",
         " İstanbul Başakşehir ",
         "0"
        ],
        [
         " Rennes ",
         "1",
         " Krasnodar ",
         "1"
        ],
        [
         " Barcelona ",
         "5",
         " Ferencváros ",
         "1"
        ],
        [
         " Lazio ",
         "3",
         " Borussia Dortmund ",
         "1"
        ],
        [
         " Zenit ",
         "1",
         " Club Brugge ",
         "2"
        ],
        [
         " Dynamo Kyiv ",
         "0",
         " Juventus ",
         "2"
        ]
       ],
       "datasetInfos": [],
       "dbfsResultPath": null,
       "isJsonSchema": true,
       "metadata": {},
       "overflow": false,
       "plotOptions": {
        "customPlotOptions": {},
        "displayType": "table",
        "pivotAggregation": null,
        "pivotColumns": null,
        "xColumns": null,
        "yColumns": null
       },
       "removedWidgets": [],
       "schema": [
        {
         "metadata": "{}",
         "name": "TEAM_NAME_HOME",
         "type": "\"string\""
        },
        {
         "metadata": "{}",
         "name": "TEAM_HOME_SCORE",
         "type": "\"string\""
        },
        {
         "metadata": "{}",
         "name": "TEAM_NAME_AWAY",
         "type": "\"string\""
        },
        {
         "metadata": "{}",
         "name": "TEAM_AWAY_SCORE",
         "type": "\"string\""
        }
       ],
       "type": "table"
      }
     },
     "output_type": "display_data"
    }
   ],
   "source": [
    "df.select(\"TEAM_NAME_HOME\", \"TEAM_HOME_SCORE\", \"TEAM_NAME_AWAY\", \"TEAM_AWAY_SCORE\").display()"
   ]
  },
  {
   "cell_type": "code",
   "execution_count": 0,
   "metadata": {
    "application/vnd.databricks.v1+cell": {
     "cellMetadata": {
      "byteLimit": 2048000,
      "rowLimit": 10000
     },
     "inputWidgets": {},
     "nuid": "d17f66c7-9d2b-43b5-90c8-ad7bef2053b0",
     "showTitle": false,
     "tableResultSettingsMap": {},
     "title": ""
    }
   },
   "outputs": [
    {
     "output_type": "display_data",
     "data": {
      "text/html": [
       "<style scoped>\n",
       "  .table-result-container {\n",
       "    max-height: 300px;\n",
       "    overflow: auto;\n",
       "  }\n",
       "  table, th, td {\n",
       "    border: 1px solid black;\n",
       "    border-collapse: collapse;\n",
       "  }\n",
       "  th, td {\n",
       "    padding: 5px;\n",
       "  }\n",
       "  th {\n",
       "    text-align: left;\n",
       "  }\n",
       "</style><div class='table-result-container'><table class='table-result'><thead style='background-color: white'><tr><th>TEAM_NAME_HOME</th><th>TEAM_HOME_SCORE</th><th>TEAM_NAME_AWAY</th><th>TEAM_AWAY_SCORE</th></tr></thead><tbody><tr><td>Liverpool</td><td>0</td><td>Real Madrid</td><td>1</td></tr><tr><td>Real Madrid</td><td>3</td><td>Man City</td><td>1</td></tr><tr><td>Villarreal</td><td>2</td><td>Liverpool</td><td>3</td></tr><tr><td>Liverpool</td><td>2</td><td>Villarreal</td><td>0</td></tr><tr><td>Man City</td><td>4</td><td>Real Madrid</td><td>3</td></tr><tr><td>Atl�tico de Madrid</td><td>0</td><td>Man City</td><td>0</td></tr><tr><td>Liverpool</td><td>3</td><td>Benfica</td><td>3</td></tr><tr><td>Real Madrid</td><td>2</td><td>Chelsea</td><td>3</td></tr><tr><td>Bayern</td><td>1</td><td>Villarreal</td><td>1</td></tr><tr><td>Villarreal</td><td>1</td><td>Bayern</td><td>0</td></tr><tr><td>Chelsea</td><td>1</td><td>Real Madrid</td><td>3</td></tr><tr><td>Benfica</td><td>1</td><td>Liverpool</td><td>3</td></tr><tr><td>Man City</td><td>1</td><td>Atl�tico de Madrid</td><td>0</td></tr><tr><td>Lille</td><td>1</td><td>Chelsea</td><td>2</td></tr><tr><td>Juventus</td><td>0</td><td>Villarreal</td><td>3</td></tr><tr><td>Ajax</td><td>0</td><td>Benfica</td><td>1</td></tr><tr><td>Man United</td><td>0</td><td>Atl�tico de Madrid</td><td>1</td></tr><tr><td>Man City</td><td>0</td><td>Sporting CP</td><td>0</td></tr><tr><td>Real Madrid</td><td>3</td><td>Paris</td><td>1</td></tr><tr><td>Bayern</td><td>7</td><td>Salzburg</td><td>1</td></tr><tr><td>Liverpool</td><td>0</td><td>Inter</td><td>1</td></tr><tr><td>Atl�tico de Madrid</td><td>1</td><td>Man United</td><td>1</td></tr><tr><td>Benfica</td><td>2</td><td>Ajax</td><td>2</td></tr><tr><td>Villarreal</td><td>1</td><td>Juventus</td><td>1</td></tr><tr><td>Chelsea</td><td>2</td><td>Lille</td><td>0</td></tr><tr><td>Inter</td><td>0</td><td>Liverpool</td><td>2</td></tr><tr><td>Salzburg\n",
       "</td><td>null</td><td>null</td><td>null</td></tr><tr><td>null</td><td>null</td><td>null</td><td>null</td></tr><tr><td>Paris</td><td>1</td><td>Real Madrid</td><td>0</td></tr><tr><td>Sporting CP</td><td>0</td><td>Man City</td><td>5</td></tr><tr><td>Salzburg\n",
       "</td><td>null</td><td>null</td><td>null</td></tr><tr><td>null</td><td>null</td><td>null</td><td>null</td></tr><tr><td>Man United</td><td>1</td><td>Young Boys</td><td>1</td></tr><tr><td>Benfica\n",
       "</td><td>null</td><td>null</td><td>null</td></tr><tr><td>null</td><td>null</td><td>null</td><td>null</td></tr><tr><td>Bayern</td><td>3</td><td>Barcelona</td><td>0</td></tr><tr><td>Wolfsburg</td><td>1</td><td>Lille</td><td>3</td></tr><tr><td>Juventus</td><td>1</td><td>Malm�</td><td>0</td></tr><tr><td>Zenit</td><td>3</td><td>Chelsea</td><td>3</td></tr><tr><td>Real Madrid</td><td>2</td><td>Inter</td><td>0</td></tr><tr><td>Milan</td><td>1</td><td>Liverpool</td><td>2</td></tr><tr><td>Dortmund</td><td>5</td><td>Be?ikta?</td><td>0</td></tr><tr><td>Ajax</td><td>4</td><td>Sporting CP</td><td>2</td></tr><tr><td>FC Porto</td><td>1</td><td>Atl�tico de Madrid</td><td>3</td></tr><tr><td>Shakhtar Donetsk</td><td>1</td><td>Sheriff</td><td>1</td></tr><tr><td>Paris</td><td>4</td><td>Club Brugge</td><td>1</td></tr><tr><td>Leipzig</td><td>2</td><td>Man City</td><td>1</td></tr><tr><td>Atalanta\n",
       "</td><td>null</td><td>null</td><td>null</td></tr><tr><td>null</td><td>null</td><td>null</td><td>null</td></tr><tr><td>Club Brugge</td><td>0</td><td>Leipzig</td><td>5</td></tr><tr><td>Atl�tico de Madrid</td><td>0</td><td>Milan</td><td>1</td></tr><tr><td>Sheriff</td><td>0</td><td>Real Madrid</td><td>3</td></tr><tr><td>Sporting CP</td><td>3</td><td>Dortmund</td><td>1</td></tr><tr><td>Man City</td><td>2</td><td>Paris</td><td>1</td></tr><tr><td>Liverpool</td><td>1</td><td>FC Porto</td><td>0</td></tr><tr><td>Besiktas</td><td>1</td><td>Ajax</td><td>2</td></tr><tr><td>Inter</td><td>2</td><td>Shakhtar Donetsk</td><td>0</td></tr><tr><td>Malmo</td><td>1</td><td>Zenit</td><td>1</td></tr><tr><td>Young Boys</td><td>3</td><td>Atalanta</td><td>3</td></tr><tr><td>Lille</td><td>1</td><td>Salzburg</td><td>0</td></tr><tr><td>Sevilla</td><td>2</td><td>Wolfsburg</td><td>0</td></tr><tr><td>Chelsea</td><td>4</td><td>Juventus</td><td>0</td></tr><tr><td>Barcelona</td><td>0</td><td>Benefica</td><td>0</td></tr><tr><td>Villarreal</td><td>0</td><td>Man United</td><td>2</td></tr><tr><td>Dynamo Kyiv</td><td>1</td><td>Bayern</td><td>2</td></tr><tr><td>Liverpool</td><td>2</td><td>Atl�tico de Madrid</td><td>0</td></tr><tr><td>Sporting CP</td><td>4</td><td>Besiktas</td><td>0</td></tr><tr><td>Man City</td><td>4</td><td>Club Brugge</td><td>1</td></tr><tr><td>Leipzig</td><td>2</td><td>PAris</td><td>2</td></tr><tr><td>Sheriff</td><td>1</td><td>Inter</td><td>3</td></tr><tr><td>Dortmund</td><td>1</td><td>Ajax</td><td>3</td></tr><tr><td>Milan</td><td>1</td><td>FC Porto</td><td>1</td></tr><tr><td>Real Madrid</td><td>2</td><td>Shakhtar Donetsk</td><td>1</td></tr><tr><td>Sevilla</td><td>1</td><td>Lille</td><td>2</td></tr><tr><td>Villareal</td><td>2</td><td>Young Boys</td><td>0</td></tr><tr><td>Atalanta</td><td>2</td><td>Man United</td><td>2</td></tr><tr><td>Dynamo Kyiv</td><td>0</td><td>Barcelona</td><td>1</td></tr><tr><td>Bayern</td><td>5</td><td>Benefics</td><td>2</td></tr><tr><td>juventus</td><td>4</td><td>Zenit</td><td>2</td></tr><tr><td>Wolfsburg</td><td>2</td><td>Salzburg</td><td>1</td></tr><tr><td>Malmo</td><td>0</td><td>Chelesa</td><td>1</td></tr><tr><td>Chelsea</td><td>4</td><td>Malmo</td><td>0</td></tr><tr><td>Zenit</td><td>0</td><td>Juventus</td><td>1</td></tr><tr><td>Benfica</td><td>0</td><td>Bayern</td><td>4</td></tr><tr><td>Lille</td><td>0</td><td>Sevilla</td><td>0</td></tr><tr><td>Young Boys</td><td>1</td><td>Villarreal</td><td>4</td></tr><tr><td>Man United</td><td>3</td><td>Atalanta</td><td>2</td></tr><tr><td>Barcelona</td><td>1</td><td>Dynamo Hyiv</td><td>0</td></tr><tr><td>Saizburg</td><td>3</td><td>Wolfsburg</td><td>1</td></tr><tr><td>Inter</td><td>3</td><td>Sheriff</td><td>1</td></tr><tr><td>Shakhtar Donetsk</td><td>0</td><td>Real Madrid</td><td>5</td></tr><tr><td>Ajax</td><td>4</td><td>Dortmund</td><td>0</td></tr><tr><td>FC Porto</td><td>1</td><td>Milan</td><td>0</td></tr><tr><td>Atl�tico de Madrid</td><td>2</td><td>Liverpool</td><td>3</td></tr><tr><td>Paris</td><td>3</td><td>Leipzig</td><td>2</td></tr><tr><td>Besiktas</td><td>1</td><td>Sporting CP</td><td>4</td></tr><tr><td>Club Brugge</td><td>1</td><td>Man City </td><td>5</td></tr><tr><td>Juventus</td><td>1</td><td>Chelsea</td><td>0</td></tr><tr><td>Man United</td><td>2</td><td>Villarreal</td><td>1</td></tr><tr><td>Beyern</td><td>5</td><td>Dynamo Kyiv</td><td>0</td></tr><tr><td>Benfica</td><td>3</td><td>Barcelona</td><td>0</td></tr><tr><td>Wolfsburg</td><td>1</td><td>Sevilla</td><td>1</td></tr><tr><td>Salzburg</td><td>2</td><td>Lille</td><td>1</td></tr><tr><td>Zenit</td><td>4</td><td>Malo</td><td>0</td></tr><tr><td>Atalanta</td><td>1</td><td>Young Boys</td><td>0</td></tr><tr><td>Dortmund</td><td>1</td><td>Sporting CP</td><td>0</td></tr><tr><td>Paris</td><td>2</td><td>Man City </td><td>0</td></tr><tr><td>FC Porto</td><td>1</td><td>Liverpool</td><td>5</td></tr><tr><td>Real Madrid</td><td>1</td><td>Sheriff</td><td>2</td></tr><tr><td>Laipzig</td><td>1</td><td>Club Brugge</td><td>2</td></tr><tr><td>Milan</td><td>1</td><td>Atl�tico de Madrid</td><td>2</td></tr><tr><td>Shakhtar Donetsk</td><td>0</td><td>Inter</td><td>0</td></tr><tr><td>Ajax</td><td>2</td><td>Besiktas</td><td>0</td></tr><tr><td>Sporting CP</td><td>1</td><td>Ajax</td><td>5</td></tr><tr><td>Atl�tico de Madrid</td><td>0</td><td>FC Porto</td><td>0</td></tr><tr><td>Club Brugge</td><td>1</td><td>Paris</td><td>1</td></tr><tr><td>Man City</td><td>6</td><td>Leipzig</td><td>3</td></tr><tr><td>Liverpool </td><td>3</td><td>Milan</td><td>2</td></tr><tr><td>Inter </td><td>0</td><td>Real Madrid</td><td>1</td></tr><tr><td>Sheriff </td><td>2</td><td>Shakhtar Dopetsk</td><td>0</td></tr><tr><td>Besiktas</td><td>1</td><td>Dortmund</td><td>2</td></tr><tr><td>Dynamo Kyiv</td><td>0</td><td>Benfica</td><td>0</td></tr><tr><td>Barcelona</td><td>0</td><td>Bayern</td><td>3</td></tr><tr><td>Lille</td><td>0</td><td>Wolfsburg</td><td>0</td></tr><tr><td>Malmo</td><td>0</td><td>Juventus</td><td>3</td></tr><tr><td>Chelsea</td><td>1</td><td>Zenit</td><td>0</td></tr><tr><td>Villarreal</td><td>2</td><td>Atalanta</td><td>2</td></tr><tr><td>Young Boys</td><td>2</td><td>Man United</td><td>1</td></tr><tr><td>Sevilla</td><td>1</td><td>Salzvurg</td><td>1</td></tr></tbody></table></div>"
      ]
     },
     "metadata": {
      "application/vnd.databricks.v1+output": {
       "addedWidgets": {},
       "aggData": [],
       "aggError": "",
       "aggOverflow": false,
       "aggSchema": [],
       "aggSeriesLimitReached": false,
       "aggType": "",
       "arguments": {},
       "columnCustomDisplayInfos": {},
       "data": [
        [
         "Liverpool",
         "0",
         "Real Madrid",
         "1"
        ],
        [
         "Real Madrid",
         "3",
         "Man City",
         "1"
        ],
        [
         "Villarreal",
         "2",
         "Liverpool",
         "3"
        ],
        [
         "Liverpool",
         "2",
         "Villarreal",
         "0"
        ],
        [
         "Man City",
         "4",
         "Real Madrid",
         "3"
        ],
        [
         "Atl�tico de Madrid",
         "0",
         "Man City",
         "0"
        ],
        [
         "Liverpool",
         "3",
         "Benfica",
         "3"
        ],
        [
         "Real Madrid",
         "2",
         "Chelsea",
         "3"
        ],
        [
         "Bayern",
         "1",
         "Villarreal",
         "1"
        ],
        [
         "Villarreal",
         "1",
         "Bayern",
         "0"
        ],
        [
         "Chelsea",
         "1",
         "Real Madrid",
         "3"
        ],
        [
         "Benfica",
         "1",
         "Liverpool",
         "3"
        ],
        [
         "Man City",
         "1",
         "Atl�tico de Madrid",
         "0"
        ],
        [
         "Lille",
         "1",
         "Chelsea",
         "2"
        ],
        [
         "Juventus",
         "0",
         "Villarreal",
         "3"
        ],
        [
         "Ajax",
         "0",
         "Benfica",
         "1"
        ],
        [
         "Man United",
         "0",
         "Atl�tico de Madrid",
         "1"
        ],
        [
         "Man City",
         "0",
         "Sporting CP",
         "0"
        ],
        [
         "Real Madrid",
         "3",
         "Paris",
         "1"
        ],
        [
         "Bayern",
         "7",
         "Salzburg",
         "1"
        ],
        [
         "Liverpool",
         "0",
         "Inter",
         "1"
        ],
        [
         "Atl�tico de Madrid",
         "1",
         "Man United",
         "1"
        ],
        [
         "Benfica",
         "2",
         "Ajax",
         "2"
        ],
        [
         "Villarreal",
         "1",
         "Juventus",
         "1"
        ],
        [
         "Chelsea",
         "2",
         "Lille",
         "0"
        ],
        [
         "Inter",
         "0",
         "Liverpool",
         "2"
        ],
        [
         "Salzburg\n",
         null,
         null,
         null
        ],
        [
         null,
         null,
         null,
         null
        ],
        [
         "Paris",
         "1",
         "Real Madrid",
         "0"
        ],
        [
         "Sporting CP",
         "0",
         "Man City",
         "5"
        ],
        [
         "Salzburg\n",
         null,
         null,
         null
        ],
        [
         null,
         null,
         null,
         null
        ],
        [
         "Man United",
         "1",
         "Young Boys",
         "1"
        ],
        [
         "Benfica\n",
         null,
         null,
         null
        ],
        [
         null,
         null,
         null,
         null
        ],
        [
         "Bayern",
         "3",
         "Barcelona",
         "0"
        ],
        [
         "Wolfsburg",
         "1",
         "Lille",
         "3"
        ],
        [
         "Juventus",
         "1",
         "Malm�",
         "0"
        ],
        [
         "Zenit",
         "3",
         "Chelsea",
         "3"
        ],
        [
         "Real Madrid",
         "2",
         "Inter",
         "0"
        ],
        [
         "Milan",
         "1",
         "Liverpool",
         "2"
        ],
        [
         "Dortmund",
         "5",
         "Be?ikta?",
         "0"
        ],
        [
         "Ajax",
         "4",
         "Sporting CP",
         "2"
        ],
        [
         "FC Porto",
         "1",
         "Atl�tico de Madrid",
         "3"
        ],
        [
         "Shakhtar Donetsk",
         "1",
         "Sheriff",
         "1"
        ],
        [
         "Paris",
         "4",
         "Club Brugge",
         "1"
        ],
        [
         "Leipzig",
         "2",
         "Man City",
         "1"
        ],
        [
         "Atalanta\n",
         null,
         null,
         null
        ],
        [
         null,
         null,
         null,
         null
        ],
        [
         "Club Brugge",
         "0",
         "Leipzig",
         "5"
        ],
        [
         "Atl�tico de Madrid",
         "0",
         "Milan",
         "1"
        ],
        [
         "Sheriff",
         "0",
         "Real Madrid",
         "3"
        ],
        [
         "Sporting CP",
         "3",
         "Dortmund",
         "1"
        ],
        [
         "Man City",
         "2",
         "Paris",
         "1"
        ],
        [
         "Liverpool",
         "1",
         "FC Porto",
         "0"
        ],
        [
         "Besiktas",
         "1",
         "Ajax",
         "2"
        ],
        [
         "Inter",
         "2",
         "Shakhtar Donetsk",
         "0"
        ],
        [
         "Malmo",
         "1",
         "Zenit",
         "1"
        ],
        [
         "Young Boys",
         "3",
         "Atalanta",
         "3"
        ],
        [
         "Lille",
         "1",
         "Salzburg",
         "0"
        ],
        [
         "Sevilla",
         "2",
         "Wolfsburg",
         "0"
        ],
        [
         "Chelsea",
         "4",
         "Juventus",
         "0"
        ],
        [
         "Barcelona",
         "0",
         "Benefica",
         "0"
        ],
        [
         "Villarreal",
         "0",
         "Man United",
         "2"
        ],
        [
         "Dynamo Kyiv",
         "1",
         "Bayern",
         "2"
        ],
        [
         "Liverpool",
         "2",
         "Atl�tico de Madrid",
         "0"
        ],
        [
         "Sporting CP",
         "4",
         "Besiktas",
         "0"
        ],
        [
         "Man City",
         "4",
         "Club Brugge",
         "1"
        ],
        [
         "Leipzig",
         "2",
         "PAris",
         "2"
        ],
        [
         "Sheriff",
         "1",
         "Inter",
         "3"
        ],
        [
         "Dortmund",
         "1",
         "Ajax",
         "3"
        ],
        [
         "Milan",
         "1",
         "FC Porto",
         "1"
        ],
        [
         "Real Madrid",
         "2",
         "Shakhtar Donetsk",
         "1"
        ],
        [
         "Sevilla",
         "1",
         "Lille",
         "2"
        ],
        [
         "Villareal",
         "2",
         "Young Boys",
         "0"
        ],
        [
         "Atalanta",
         "2",
         "Man United",
         "2"
        ],
        [
         "Dynamo Kyiv",
         "0",
         "Barcelona",
         "1"
        ],
        [
         "Bayern",
         "5",
         "Benefics",
         "2"
        ],
        [
         "juventus",
         "4",
         "Zenit",
         "2"
        ],
        [
         "Wolfsburg",
         "2",
         "Salzburg",
         "1"
        ],
        [
         "Malmo",
         "0",
         "Chelesa",
         "1"
        ],
        [
         "Chelsea",
         "4",
         "Malmo",
         "0"
        ],
        [
         "Zenit",
         "0",
         "Juventus",
         "1"
        ],
        [
         "Benfica",
         "0",
         "Bayern",
         "4"
        ],
        [
         "Lille",
         "0",
         "Sevilla",
         "0"
        ],
        [
         "Young Boys",
         "1",
         "Villarreal",
         "4"
        ],
        [
         "Man United",
         "3",
         "Atalanta",
         "2"
        ],
        [
         "Barcelona",
         "1",
         "Dynamo Hyiv",
         "0"
        ],
        [
         "Saizburg",
         "3",
         "Wolfsburg",
         "1"
        ],
        [
         "Inter",
         "3",
         "Sheriff",
         "1"
        ],
        [
         "Shakhtar Donetsk",
         "0",
         "Real Madrid",
         "5"
        ],
        [
         "Ajax",
         "4",
         "Dortmund",
         "0"
        ],
        [
         "FC Porto",
         "1",
         "Milan",
         "0"
        ],
        [
         "Atl�tico de Madrid",
         "2",
         "Liverpool",
         "3"
        ],
        [
         "Paris",
         "3",
         "Leipzig",
         "2"
        ],
        [
         "Besiktas",
         "1",
         "Sporting CP",
         "4"
        ],
        [
         "Club Brugge",
         "1",
         "Man City ",
         "5"
        ],
        [
         "Juventus",
         "1",
         "Chelsea",
         "0"
        ],
        [
         "Man United",
         "2",
         "Villarreal",
         "1"
        ],
        [
         "Beyern",
         "5",
         "Dynamo Kyiv",
         "0"
        ],
        [
         "Benfica",
         "3",
         "Barcelona",
         "0"
        ],
        [
         "Wolfsburg",
         "1",
         "Sevilla",
         "1"
        ],
        [
         "Salzburg",
         "2",
         "Lille",
         "1"
        ],
        [
         "Zenit",
         "4",
         "Malo",
         "0"
        ],
        [
         "Atalanta",
         "1",
         "Young Boys",
         "0"
        ],
        [
         "Dortmund",
         "1",
         "Sporting CP",
         "0"
        ],
        [
         "Paris",
         "2",
         "Man City ",
         "0"
        ],
        [
         "FC Porto",
         "1",
         "Liverpool",
         "5"
        ],
        [
         "Real Madrid",
         "1",
         "Sheriff",
         "2"
        ],
        [
         "Laipzig",
         "1",
         "Club Brugge",
         "2"
        ],
        [
         "Milan",
         "1",
         "Atl�tico de Madrid",
         "2"
        ],
        [
         "Shakhtar Donetsk",
         "0",
         "Inter",
         "0"
        ],
        [
         "Ajax",
         "2",
         "Besiktas",
         "0"
        ],
        [
         "Sporting CP",
         "1",
         "Ajax",
         "5"
        ],
        [
         "Atl�tico de Madrid",
         "0",
         "FC Porto",
         "0"
        ],
        [
         "Club Brugge",
         "1",
         "Paris",
         "1"
        ],
        [
         "Man City",
         "6",
         "Leipzig",
         "3"
        ],
        [
         "Liverpool ",
         "3",
         "Milan",
         "2"
        ],
        [
         "Inter ",
         "0",
         "Real Madrid",
         "1"
        ],
        [
         "Sheriff ",
         "2",
         "Shakhtar Dopetsk",
         "0"
        ],
        [
         "Besiktas",
         "1",
         "Dortmund",
         "2"
        ],
        [
         "Dynamo Kyiv",
         "0",
         "Benfica",
         "0"
        ],
        [
         "Barcelona",
         "0",
         "Bayern",
         "3"
        ],
        [
         "Lille",
         "0",
         "Wolfsburg",
         "0"
        ],
        [
         "Malmo",
         "0",
         "Juventus",
         "3"
        ],
        [
         "Chelsea",
         "1",
         "Zenit",
         "0"
        ],
        [
         "Villarreal",
         "2",
         "Atalanta",
         "2"
        ],
        [
         "Young Boys",
         "2",
         "Man United",
         "1"
        ],
        [
         "Sevilla",
         "1",
         "Salzvurg",
         "1"
        ]
       ],
       "datasetInfos": [],
       "dbfsResultPath": null,
       "isJsonSchema": true,
       "metadata": {},
       "overflow": false,
       "plotOptions": {
        "customPlotOptions": {},
        "displayType": "table",
        "pivotAggregation": null,
        "pivotColumns": null,
        "xColumns": null,
        "yColumns": null
       },
       "removedWidgets": [],
       "schema": [
        {
         "metadata": "{}",
         "name": "TEAM_NAME_HOME",
         "type": "\"string\""
        },
        {
         "metadata": "{}",
         "name": "TEAM_HOME_SCORE",
         "type": "\"string\""
        },
        {
         "metadata": "{}",
         "name": "TEAM_NAME_AWAY",
         "type": "\"string\""
        },
        {
         "metadata": "{}",
         "name": "TEAM_AWAY_SCORE",
         "type": "\"string\""
        }
       ],
       "type": "table"
      }
     },
     "output_type": "display_data"
    }
   ],
   "source": [
    "df1.select(\"TEAM_NAME_HOME\", \"TEAM_HOME_SCORE\", \"TEAM_NAME_AWAY\", \"TEAM_AWAY_SCORE\").display()"
   ]
  },
  {
   "cell_type": "code",
   "execution_count": 0,
   "metadata": {
    "application/vnd.databricks.v1+cell": {
     "cellMetadata": {
      "byteLimit": 2048000,
      "rowLimit": 10000
     },
     "inputWidgets": {},
     "nuid": "4203312e-e2a7-49d8-991a-2c660fc8b8f1",
     "showTitle": false,
     "tableResultSettingsMap": {},
     "title": ""
    }
   },
   "outputs": [],
   "source": [
    "# unir las dos dataframe\n",
    "\n",
    "df_combinado = df.union(df1)"
   ]
  },
  {
   "cell_type": "markdown",
   "metadata": {
    "application/vnd.databricks.v1+cell": {
     "cellMetadata": {},
     "inputWidgets": {},
     "nuid": "2b9c093b-9614-46ef-bd0e-c7c0ac75eb8c",
     "showTitle": false,
     "tableResultSettingsMap": {},
     "title": ""
    }
   },
   "source": [
    "Encuentra los 3 equipos que anotaron más goles jugando en su estadio en la UEFA Champions League 2020-21. El resultado debe contener dos columnas: TEAM_NAME_HOME y TEAM_HOME_SCORE ordenadas en orden descendente de TEAM_HOME_SCORE. Guarda la consulta (o el notebook) como TEAM_HOME_WITH_MOST_GOALS."
   ]
  },
  {
   "cell_type": "code",
   "execution_count": 0,
   "metadata": {
    "application/vnd.databricks.v1+cell": {
     "cellMetadata": {
      "byteLimit": 2048000,
      "rowLimit": 10000
     },
     "inputWidgets": {},
     "nuid": "f78190aa-293b-48b0-825a-2d93b92089af",
     "showTitle": false,
     "tableResultSettingsMap": {},
     "title": ""
    }
   },
   "outputs": [
    {
     "output_type": "display_data",
     "data": {
      "text/html": [
       "<style scoped>\n",
       "  .table-result-container {\n",
       "    max-height: 300px;\n",
       "    overflow: auto;\n",
       "  }\n",
       "  table, th, td {\n",
       "    border: 1px solid black;\n",
       "    border-collapse: collapse;\n",
       "  }\n",
       "  th, td {\n",
       "    padding: 5px;\n",
       "  }\n",
       "  th {\n",
       "    text-align: left;\n",
       "  }\n",
       "</style><div class='table-result-container'><table class='table-result'><thead style='background-color: white'><tr><th>TEAM_NAME_HOME</th><th>total_puntos</th></tr></thead><tbody><tr><td>Man City</td><td>17.0</td></tr><tr><td>Bayern</td><td>16.0</td></tr><tr><td> Manchester City </td><td>15.0</td></tr></tbody></table></div>"
      ]
     },
     "metadata": {
      "application/vnd.databricks.v1+output": {
       "addedWidgets": {},
       "aggData": [],
       "aggError": "",
       "aggOverflow": false,
       "aggSchema": [],
       "aggSeriesLimitReached": false,
       "aggType": "",
       "arguments": {},
       "columnCustomDisplayInfos": {},
       "data": [
        [
         "Man City",
         17.0
        ],
        [
         "Bayern",
         16.0
        ],
        [
         " Manchester City ",
         15.0
        ]
       ],
       "datasetInfos": [],
       "dbfsResultPath": null,
       "isJsonSchema": true,
       "metadata": {},
       "overflow": false,
       "plotOptions": {
        "customPlotOptions": {},
        "displayType": "table",
        "pivotAggregation": null,
        "pivotColumns": null,
        "xColumns": null,
        "yColumns": null
       },
       "removedWidgets": [],
       "schema": [
        {
         "metadata": "{}",
         "name": "TEAM_NAME_HOME",
         "type": "\"string\""
        },
        {
         "metadata": "{}",
         "name": "total_puntos",
         "type": "\"double\""
        }
       ],
       "type": "table"
      }
     },
     "output_type": "display_data"
    }
   ],
   "source": [
    "from pyspark.sql import functions as F\n",
    "\n",
    "df_combinado = df_combinado.groupBy(\"TEAM_NAME_HOME\").agg(F.sum(\"TEAM_HOME_SCORE\").alias(\"total_puntos\"))\n",
    "\n",
    "df_combinado = df_combinado.orderBy(F.desc(\"total_puntos\"))\n",
    "\n",
    "df_combinado = df_combinado.limit(3)\n",
    "\n",
    "df_combinado.display()"
   ]
  },
  {
   "cell_type": "code",
   "execution_count": 0,
   "metadata": {
    "application/vnd.databricks.v1+cell": {
     "cellMetadata": {
      "byteLimit": 2048000,
      "rowLimit": 10000
     },
     "inputWidgets": {},
     "nuid": "3a8655f8-fec9-4b67-ae8f-1ed37786161f",
     "showTitle": false,
     "tableResultSettingsMap": {},
     "title": ""
    }
   },
   "outputs": [],
   "source": [
    "#guadar consulta \n",
    "df_combinado.write.csv(\"/FileStore/caso_2/TEAM_HOME_WITH_MOST_GOALS.csv\", header=True)"
   ]
  },
  {
   "cell_type": "code",
   "execution_count": 0,
   "metadata": {
    "application/vnd.databricks.v1+cell": {
     "cellMetadata": {
      "byteLimit": 2048000,
      "rowLimit": 10000
     },
     "inputWidgets": {},
     "nuid": "eb2d5da7-b65d-475f-8819-54844002ad65",
     "showTitle": false,
     "tableResultSettingsMap": {},
     "title": ""
    }
   },
   "outputs": [
    {
     "output_type": "display_data",
     "data": {
      "text/html": [
       "<style scoped>\n",
       "  .table-result-container {\n",
       "    max-height: 300px;\n",
       "    overflow: auto;\n",
       "  }\n",
       "  table, th, td {\n",
       "    border: 1px solid black;\n",
       "    border-collapse: collapse;\n",
       "  }\n",
       "  th, td {\n",
       "    padding: 5px;\n",
       "  }\n",
       "  th {\n",
       "    text-align: left;\n",
       "  }\n",
       "</style><div class='table-result-container'><table class='table-result'><thead style='background-color: white'><tr><th>STAGE</th><th>DATE</th><th>PENS</th><th>PENS_HOME_SCORE</th><th>PENS_AWAY_SCORE</th><th>TEAM_NAME_HOME</th><th>TEAM_NAME_AWAY</th><th>TEAM_HOME_SCORE</th><th>TEAM_AWAY_SCORE</th><th>POSSESSION_HOME</th><th>POSSESSION_AWAY</th><th>TOTAL_SHOTS_HOME</th><th>TOTAL_SHOTS_AWAY</th><th>SHOTS_ON_TARGET_HOME</th><th>SHOTS_ON_TARGET_AWAY</th><th>DUELS_WON_HOME</th><th>DUELS_WON_AWAY</th><th>PREDICTION_TEAM_HOME_WIN</th><th>PREDICTION_DRAW</th><th>PREDICTION_TEAM_AWAY_WIN</th><th>LOCATION</th></tr></thead><tbody><tr><td> Group stage: Matchday 1 </td><td>6-9-2022</td><td>FALSE</td><td>FALSE</td><td>FALSE</td><td>Dinamo Zagreb</td><td>Chelsea</td><td>1</td><td>0</td><td>31%</td><td>69%</td><td>6</td><td>15</td><td>3</td><td>3</td><td>44%</td><td>56%</td><td>49%</td><td>10</td><td>51%</td><td>Maksimir</td></tr><tr><td> Group stage: Matchday 1 </td><td>6-9-2022</td><td>FALSE</td><td>FALSE</td><td>FALSE</td><td>Salzburg</td><td>AC Milan</td><td>1</td><td>1</td><td>34%</td><td>66%</td><td>16</td><td>14</td><td>4</td><td>3</td><td>38%</td><td>62%</td><td>41%</td><td>9</td><td>59%</td><td>Red Bull Arena</td></tr><tr><td> Group stage: Matchday 1 </td><td>6-9-2022</td><td>FALSE</td><td>FALSE</td><td>FALSE</td><td>Celtic</td><td>Real Madrid</td><td>0</td><td>3</td><td>35%</td><td>65%</td><td>10</td><td>12</td><td>4</td><td>6</td><td>46%</td><td>54%</td><td>47%</td><td>8</td><td>53%</td><td>Celtic Park</td></tr><tr><td> Group stage: Matchday 1 </td><td>6-9-2022</td><td>FALSE</td><td>FALSE</td><td>FALSE</td><td>RB Leipzig</td><td>Shakhtar Donetsk</td><td>1</td><td>4</td><td>68%</td><td>32%</td><td>13</td><td>5</td><td>2</td><td>4</td><td>47%</td><td>53%</td><td>49%</td><td>8</td><td>51%</td><td>Red Bull Arena</td></tr><tr><td> Group stage: Matchday 1 </td><td>6-9-2022</td><td>FALSE</td><td>FALSE</td><td>FALSE</td><td>Borussia Dortmund</td><td>K�benhavn</td><td>3</td><td>0</td><td>63%</td><td>37%</td><td>15</td><td>7</td><td>4</td><td>2</td><td>49%</td><td>51%</td><td>45%</td><td>6</td><td>55%</td><td>Signal Iduna Park</td></tr><tr><td> Group stage: Matchday 1 </td><td>6-9-2022</td><td>FALSE</td><td>FALSE</td><td>FALSE</td><td>Sevilla</td><td>Manchester City</td><td>0</td><td>4</td><td>38%</td><td>62%</td><td>6</td><td>24</td><td>1</td><td>10</td><td>42%</td><td>58%</td><td>43%</td><td>2</td><td>57%</td><td>Ram�n S�nchez Pizju�n</td></tr><tr><td> Group stage: Matchday 1 </td><td>6-9-2022</td><td>FALSE</td><td>FALSE</td><td>FALSE</td><td>Paris Saint-Germain</td><td>Juventus</td><td>2</td><td>1</td><td>58%</td><td>42%</td><td>15</td><td>13</td><td>6</td><td>4</td><td>36%</td><td>64%</td><td>45%</td><td>3</td><td>55%</td><td>Parc des Princes</td></tr><tr><td> Group stage: Matchday 1 </td><td>6-9-2022</td><td>FALSE</td><td>FALSE</td><td>FALSE</td><td>Benfica</td><td>Maccabi Haifa</td><td>2</td><td>0</td><td>57%</td><td>43%</td><td>14</td><td>7</td><td>5</td><td>2</td><td>46%</td><td>54%</td><td>42%</td><td>8</td><td>58%</td><td>Stadion da Luz</td></tr><tr><td> Group stage: Matchday 1 </td><td>7-9-2022</td><td>FALSE</td><td>FALSE</td><td>FALSE</td><td>Ajax</td><td>Rangers</td><td>4</td><td>0</td><td>76%</td><td>24%</td><td>17</td><td>4</td><td>9</td><td>1</td><td>47%</td><td>53%</td><td>45%</td><td>3</td><td>55%</td><td>Amsterdam Arena</td></tr><tr><td> Group stage: Matchday 1 </td><td>7-9-2022</td><td>FALSE</td><td>FALSE</td><td>FALSE</td><td>Napoli</td><td>Liverpool</td><td>4</td><td>1</td><td>38%</td><td>62%</td><td>18</td><td>15</td><td>9</td><td>7</td><td>44%</td><td>56%</td><td>45%</td><td>8</td><td>55%</td><td>San Paolo</td></tr><tr><td> Group stage: Matchday 1 </td><td>7-9-2022</td><td>FALSE</td><td>FALSE</td><td>FALSE</td><td>Atletico Madrid</td><td>Porto</td><td>2</td><td>1</td><td>54%</td><td>46%</td><td>10</td><td>17</td><td>3</td><td>3</td><td>45%</td><td>55%</td><td>38%</td><td>3</td><td>62%</td><td>Vicente Calderon</td></tr><tr><td> Group stage: Matchday 1 </td><td>7-9-2022</td><td>FALSE</td><td>FALSE</td><td>FALSE</td><td>Club Brugge</td><td>Bayer Leverkusen</td><td>1</td><td>0</td><td>47%</td><td>53%</td><td>9</td><td>14</td><td>3</td><td>3</td><td>44%</td><td>56%</td><td>43%</td><td>1</td><td>57%</td><td>Jan Breydel</td></tr><tr><td> Group stage: Matchday 1 </td><td>7-9-2022</td><td>FALSE</td><td>FALSE</td><td>FALSE</td><td>Internazionale</td><td>Bayern Munich</td><td>0</td><td>2</td><td>44%</td><td>56%</td><td>9</td><td>21</td><td>2</td><td>11</td><td>45%</td><td>55%</td><td>41%</td><td>8</td><td>59%</td><td>San Siro</td></tr><tr><td> Group stage: Matchday 1 </td><td>7-9-2022</td><td>FALSE</td><td>FALSE</td><td>FALSE</td><td>Barcelona</td><td>Viktoria Plze?</td><td>5</td><td>1</td><td>77%</td><td>23%</td><td>20</td><td>8</td><td>11</td><td>1</td><td>43%</td><td>57%</td><td>37%</td><td>10</td><td>63%</td><td>Nou Camp</td></tr><tr><td> Group stage: Matchday 1 </td><td>7-9-2022</td><td>FALSE</td><td>FALSE</td><td>FALSE</td><td>Eintracht Frankfurt</td><td>Sporting CP</td><td>0</td><td>3</td><td>43%</td><td>57%</td><td>11</td><td>8</td><td>2</td><td>5</td><td>42%</td><td>58%</td><td>38%</td><td>10</td><td>62%</td><td>Eintracht-Stadion</td></tr><tr><td> Group stage: Matchday 1 </td><td>7-9-2022</td><td>FALSE</td><td>FALSE</td><td>FALSE</td><td>Tottenham Hotspur</td><td>Marseille</td><td>2</td><td>0</td><td>49%</td><td>51%</td><td>18</td><td>9</td><td>2</td><td>1</td><td>45%</td><td>55%</td><td>44%</td><td>3</td><td>56%</td><td>Tottenham Hotspur Stadium</td></tr><tr><td> Group stage: Matchday 2 </td><td>13-9-2022</td><td>FALSE</td><td>FALSE</td><td>FALSE</td><td>Liverpool</td><td>Ajax</td><td>2</td><td>1</td><td>57%</td><td>43%</td><td>24</td><td>3</td><td>10</td><td>1</td><td>48%</td><td>52%</td><td>46%</td><td>5</td><td>54%</td><td>Anfield</td></tr><tr><td> Group stage: Matchday 2 </td><td>13-9-2022</td><td>FALSE</td><td>FALSE</td><td>FALSE</td><td>Rangers</td><td>Napoli</td><td>0</td><td>3</td><td>46%</td><td>54%</td><td>22</td><td>12</td><td>4</td><td>5</td><td>48%</td><td>52%</td><td>35%</td><td>1</td><td>65%</td><td>Ibrox Stadium</td></tr><tr><td> Group stage: Matchday 2 </td><td>13-9-2022</td><td>FALSE</td><td>FALSE</td><td>FALSE</td><td>Bayer Leverkusen</td><td>Atletico Madrid</td><td>2</td><td>0</td><td>45%</td><td>55%</td><td>18</td><td>12</td><td>5</td><td>3</td><td>42%</td><td>58%</td><td>49%</td><td>2</td><td>51%</td><td>BayArena</td></tr><tr><td> Group stage: Matchday 2 </td><td>13-9-2022</td><td>FALSE</td><td>FALSE</td><td>FALSE</td><td>Porto</td><td>Club Brugge</td><td>0</td><td>4</td><td>55%</td><td>45%</td><td>15</td><td>13</td><td>4</td><td>7</td><td>35%</td><td>65%</td><td>44%</td><td>9</td><td>56%</td><td>Est�dio do Drag�o</td></tr><tr><td> Group stage: Matchday 2 </td><td>13-9-2022</td><td>FALSE</td><td>FALSE</td><td>FALSE</td><td>Viktoria Plze?</td><td>Internazionale</td><td>0</td><td>2</td><td>28%</td><td>72%</td><td>8</td><td>19</td><td>1</td><td>8</td><td>39%</td><td>61%</td><td>40%</td><td>5</td><td>60%</td><td>Doosan Arena</td></tr><tr><td> Group stage: Matchday 2 </td><td>13-9-2022</td><td>FALSE</td><td>FALSE</td><td>FALSE</td><td>Bayern Munich</td><td>Barcelona</td><td>2</td><td>0</td><td>46%</td><td>54%</td><td>13</td><td>18</td><td>4</td><td>4</td><td>39%</td><td>61%</td><td>39%</td><td>8</td><td>61%</td><td>Allianz Arena</td></tr><tr><td> Group stage: Matchday 2 </td><td>13-9-2022</td><td>FALSE</td><td>FALSE</td><td>FALSE</td><td>Sporting CP</td><td>Tottenham Hotspur</td><td>2</td><td>0</td><td>55%</td><td>45%</td><td>12</td><td>12</td><td>6</td><td>5</td><td>45%</td><td>55%</td><td>43%</td><td>9</td><td>57%</td><td>Jos� Alvalade</td></tr><tr><td> Group stage: Matchday 2 </td><td>13-9-2022</td><td>FALSE</td><td>FALSE</td><td>FALSE</td><td>Marseille</td><td>Eintracht Frankfurt</td><td>0</td><td>1</td><td>61%</td><td>39%</td><td>8</td><td>14</td><td>4</td><td>7</td><td>38%</td><td>62%</td><td>36%</td><td>7</td><td>64%</td><td>V�lodrome</td></tr><tr><td> Group stage: Matchday 2 </td><td>14-9-2022</td><td>FALSE</td><td>FALSE</td><td>FALSE</td><td>AC Milan</td><td>Dinamo Zagreb</td><td>3</td><td>1</td><td>57%</td><td>43%</td><td>17</td><td>7</td><td>7</td><td>3</td><td>50%</td><td>50%</td><td>44%</td><td>6</td><td>56%</td><td>San Siro</td></tr><tr><td> Group stage: Matchday 2 </td><td>14-9-2022</td><td>FALSE</td><td>FALSE</td><td>FALSE</td><td>Chelsea</td><td>Salzburg</td><td>1</td><td>1</td><td>73%</td><td>27%</td><td>17</td><td>4</td><td>4</td><td>3</td><td>39%</td><td>61%</td><td>45%</td><td>8</td><td>55%</td><td>Stamford Bridge</td></tr><tr><td> Group stage: Matchday 2 </td><td>14-9-2022</td><td>FALSE</td><td>FALSE</td><td>FALSE</td><td>Shakhtar Donetsk</td><td>Celtic</td><td>1</td><td>1</td><td>43%</td><td>57%</td><td>5</td><td>16</td><td>2</td><td>6</td><td>40%</td><td>60%</td><td>36%</td><td>10</td><td>64%</td><td>Donbass Arena</td></tr><tr><td> Group stage: Matchday 2 </td><td>14-9-2022</td><td>FALSE</td><td>FALSE</td><td>FALSE</td><td>Real Madrid</td><td>RB Leipzig</td><td>2</td><td>0</td><td>53%</td><td>47%</td><td>12</td><td>9</td><td>3</td><td>3</td><td>43%</td><td>57%</td><td>42%</td><td>1</td><td>58%</td><td>Santiago Bernabeu</td></tr><tr><td> Group stage: Matchday 2 </td><td>14-9-2022</td><td>FALSE</td><td>FALSE</td><td>FALSE</td><td>Manchester City</td><td>Borussia Dortmund</td><td>2</td><td>1</td><td>66%</td><td>34%</td><td>12</td><td>5</td><td>3</td><td>2</td><td>50%</td><td>50%</td><td>41%</td><td>2</td><td>59%</td><td>Etihad</td></tr><tr><td> Group stage: Matchday 2 </td><td>14-9-2022</td><td>FALSE</td><td>FALSE</td><td>FALSE</td><td>K�benhavn</td><td>Sevilla</td><td>0</td><td>0</td><td>37%</td><td>63%</td><td>7</td><td>11</td><td>2</td><td>2</td><td>46%</td><td>54%</td><td>46%</td><td>2</td><td>54%</td><td>Parken Stadium</td></tr><tr><td> Group stage: Matchday 2 </td><td>14-9-2022</td><td>FALSE</td><td>FALSE</td><td>FALSE</td><td>Juventus</td><td>Benfica</td><td>1</td><td>2</td><td>43%</td><td>57%</td><td>11</td><td>19</td><td>3</td><td>7</td><td>39%</td><td>61%</td><td>49%</td><td>1</td><td>51%</td><td>Allianz Stadium</td></tr><tr><td> Group stage: Matchday 2 </td><td>14-9-2022</td><td>FALSE</td><td>FALSE</td><td>FALSE</td><td>Maccabi Haifa</td><td>Paris Saint-Germain</td><td>1</td><td>3</td><td>43%</td><td>57%</td><td>13</td><td>16</td><td>5</td><td>6</td><td>37%</td><td>63%</td><td>46%</td><td>10</td><td>54%</td><td>Sammy Ofer</td></tr><tr><td> Group stage: Matchday 3 </td><td>4-10-2022</td><td>FALSE</td><td>FALSE</td><td>FALSE</td><td>Ajax</td><td>Napoli</td><td>1</td><td>6</td><td>43%</td><td>57%</td><td>8</td><td>26</td><td>2</td><td>13</td><td>37%</td><td>63%</td><td>48%</td><td>8</td><td>52%</td><td>Amsterdam Arena</td></tr><tr><td> Group stage: Matchday 3 </td><td>4-10-2022</td><td>FALSE</td><td>FALSE</td><td>FALSE</td><td>Liverpool</td><td>Rangers</td><td>2</td><td>0</td><td>64%</td><td>36%</td><td>23</td><td>6</td><td>10</td><td>2</td><td>39%</td><td>61%</td><td>49%</td><td>6</td><td>51%</td><td>Anfield</td></tr><tr><td> Group stage: Matchday 3 </td><td>4-10-2022</td><td>FALSE</td><td>FALSE</td><td>FALSE</td><td>Club Brugge</td><td>Atletico Madrid</td><td>2</td><td>0</td><td>47%</td><td>53%</td><td>7</td><td>20</td><td>3</td><td>5</td><td>45%</td><td>55%</td><td>46%</td><td>3</td><td>54%</td><td>Jan Breydel</td></tr><tr><td> Group stage: Matchday 3 </td><td>4-10-2022</td><td>FALSE</td><td>FALSE</td><td>FALSE</td><td>Porto</td><td>Bayer Leverkusen</td><td>2</td><td>0</td><td>41%</td><td>59%</td><td>12</td><td>8</td><td>4</td><td>6</td><td>39%</td><td>61%</td><td>44%</td><td>9</td><td>56%</td><td>Est�dio do Drag�o</td></tr><tr><td> Group stage: Matchday 3 </td><td>4-10-2022</td><td>FALSE</td><td>FALSE</td><td>FALSE</td><td>Bayern Munich</td><td>Viktoria Plze?</td><td>5</td><td>0</td><td>71%</td><td>29%</td><td>21</td><td>10</td><td>13</td><td>3</td><td>40%</td><td>60%</td><td>40%</td><td>2</td><td>60%</td><td>Allianz Arena</td></tr><tr><td> Group stage: Matchday 3 </td><td>4-10-2022</td><td>FALSE</td><td>FALSE</td><td>FALSE</td><td>Internazionale</td><td>Barcelona</td><td>1</td><td>0</td><td>28%</td><td>72%</td><td>5</td><td>7</td><td>2</td><td>2</td><td>37%</td><td>63%</td><td>40%</td><td>5</td><td>60%</td><td>San Siro</td></tr><tr><td> Group stage: Matchday 3 </td><td>4-10-2022</td><td>FALSE</td><td>FALSE</td><td>FALSE</td><td>Marseille</td><td>Sporting CP</td><td>4</td><td>1</td><td>56%</td><td>44%</td><td>20</td><td>6</td><td>7</td><td>2</td><td>36%</td><td>64%</td><td>44%</td><td>1</td><td>56%</td><td>V�lodrome</td></tr><tr><td> Group stage: Matchday 3 </td><td>4-10-2022</td><td>FALSE</td><td>FALSE</td><td>FALSE</td><td>Eintracht Frankfurt</td><td>Tottenham Hotspur</td><td>0</td><td>0</td><td>43%</td><td>57%</td><td>12</td><td>11</td><td>2</td><td>2</td><td>38%</td><td>62%</td><td>48%</td><td>9</td><td>52%</td><td>Eintracht-Stadion</td></tr><tr><td> Group stage: Matchday 3 </td><td>5-10-2022</td><td>FALSE</td><td>FALSE</td><td>FALSE</td><td>Salzburg</td><td>Dinamo Zagreb</td><td>1</td><td>0</td><td>47%</td><td>53%</td><td>18</td><td>10</td><td>6</td><td>3</td><td>49%</td><td>51%</td><td>40%</td><td>7</td><td>60%</td><td>Red Bull Arena</td></tr><tr><td> Group stage: Matchday 3 </td><td>5-10-2022</td><td>FALSE</td><td>FALSE</td><td>FALSE</td><td>Chelsea</td><td>AC Milan</td><td>3</td><td>0</td><td>52%</td><td>48%</td><td>10</td><td>4</td><td>6</td><td>1</td><td>38%</td><td>62%</td><td>46%</td><td>6</td><td>54%</td><td>Stamford Bridge</td></tr><tr><td> Group stage: Matchday 3 </td><td>5-10-2022</td><td>FALSE</td><td>FALSE</td><td>FALSE</td><td>RB Leipzig</td><td>Celtic</td><td>3</td><td>1</td><td>59%</td><td>41%</td><td>16</td><td>12</td><td>6</td><td>5</td><td>39%</td><td>61%</td><td>49%</td><td>2</td><td>51%</td><td>Red Bull Arena</td></tr><tr><td> Group stage: Matchday 3 </td><td>5-10-2022</td><td>FALSE</td><td>FALSE</td><td>FALSE</td><td>Real Madrid</td><td>Shakhtar Donetsk</td><td>2</td><td>1</td><td>60%</td><td>40%</td><td>36</td><td>11</td><td>14</td><td>3</td><td>50%</td><td>50%</td><td>47%</td><td>5</td><td>53%</td><td>Santiago Bernabeu</td></tr><tr><td> Group stage: Matchday 3 </td><td>5-10-2022</td><td>FALSE</td><td>FALSE</td><td>FALSE</td><td>Sevilla</td><td>Borussia Dortmund</td><td>1</td><td>4</td><td>59%</td><td>41%</td><td>20</td><td>19</td><td>6</td><td>7</td><td>41%</td><td>59%</td><td>48%</td><td>9</td><td>52%</td><td>Ram�n S�nchez Pizju�n</td></tr><tr><td> Group stage: Matchday 3 </td><td>5-10-2022</td><td>FALSE</td><td>FALSE</td><td>FALSE</td><td>Manchester City</td><td>K�benhavn</td><td>5</td><td>0</td><td>76%</td><td>24%</td><td>30</td><td>2</td><td>16</td><td>0</td><td>45%</td><td>55%</td><td>38%</td><td>8</td><td>62%</td><td>Etihad</td></tr><tr><td> Group stage: Matchday 3 </td><td>5-10-2022</td><td>FALSE</td><td>FALSE</td><td>FALSE</td><td>Juventus</td><td>Maccabi Haifa</td><td>3</td><td>1</td><td>51%</td><td>49%</td><td>16</td><td>20</td><td>7</td><td>4</td><td>49%</td><td>51%</td><td>50%</td><td>8</td><td>50%</td><td>Allianz Stadium</td></tr><tr><td> Group stage: Matchday 3 </td><td>5-10-2022</td><td>FALSE</td><td>FALSE</td><td>FALSE</td><td>Benfica</td><td>Paris Saint-Germain</td><td>1</td><td>1</td><td>35%</td><td>65%</td><td>8</td><td>15</td><td>6</td><td>7</td><td>43%</td><td>57%</td><td>37%</td><td>6</td><td>63%</td><td>Stadion da Luz</td></tr><tr><td> Group stage: Matchday 4 </td><td>11-10-2022</td><td>FALSE</td><td>FALSE</td><td>FALSE</td><td>AC Milan</td><td>Chelsea</td><td>0</td><td>2</td><td>29%</td><td>71%</td><td>7</td><td>15</td><td>1</td><td>4</td><td>45%</td><td>55%</td><td>46%</td><td>6</td><td>54%</td><td>San Siro</td></tr><tr><td> Group stage: Matchday 4 </td><td>11-10-2022</td><td>FALSE</td><td>FALSE</td><td>FALSE</td><td>Dinamo Zagreb</td><td>Salzburg</td><td>1</td><td>1</td><td>57%</td><td>43%</td><td>14</td><td>15</td><td>3</td><td>3</td><td>41%</td><td>59%</td><td>48%</td><td>4</td><td>52%</td><td>Maksimir</td></tr><tr><td> Group stage: Matchday 4 </td><td>11-10-2022</td><td>FALSE</td><td>FALSE</td><td>FALSE</td><td>Celtic</td><td>RB Leipzig</td><td>0</td><td>2</td><td>41%</td><td>59%</td><td>16</td><td>13</td><td>2</td><td>5</td><td>48%</td><td>52%</td><td>35%</td><td>7</td><td>65%</td><td>Celtic Park</td></tr><tr><td> Group stage: Matchday 4 </td><td>11-10-2022</td><td>FALSE</td><td>FALSE</td><td>FALSE</td><td>Shakhtar Donetsk</td><td>Real Madrid</td><td>1</td><td>1</td><td>41%</td><td>59%</td><td>11</td><td>17</td><td>2</td><td>5</td><td>50%</td><td>50%</td><td>35%</td><td>9</td><td>65%</td><td>Donbass Arena</td></tr><tr><td> Group stage: Matchday 4 </td><td>11-10-2022</td><td>FALSE</td><td>FALSE</td><td>FALSE</td><td>K�benhavn</td><td>Manchester City</td><td>0</td><td>0</td><td>41%</td><td>59%</td><td>6</td><td>14</td><td>1</td><td>4</td><td>36%</td><td>64%</td><td>35%</td><td>4</td><td>65%</td><td>Parken Stadium</td></tr><tr><td> Group stage: Matchday 4 </td><td>11-10-2022</td><td>FALSE</td><td>FALSE</td><td>FALSE</td><td>Borussia Dortmund</td><td>Sevilla</td><td>1</td><td>1</td><td>52%</td><td>48%</td><td>7</td><td>9</td><td>3</td><td>2</td><td>39%</td><td>61%</td><td>41%</td><td>4</td><td>59%</td><td>Signal Iduna Park</td></tr><tr><td> Group stage: Matchday 4 </td><td>11-10-2022</td><td>FALSE</td><td>FALSE</td><td>FALSE</td><td>Maccabi Haifa</td><td>Juventus</td><td>2</td><td>0</td><td>42%</td><td>58%</td><td>14</td><td>10</td><td>4</td><td>5</td><td>49%</td><td>51%</td><td>42%</td><td>6</td><td>58%</td><td>Sammy Ofer</td></tr><tr><td> Group stage: Matchday 4 </td><td>11-10-2022</td><td>FALSE</td><td>FALSE</td><td>FALSE</td><td>Paris Saint-Germain</td><td>Benfica</td><td>1</td><td>1</td><td>62%</td><td>38%</td><td>7</td><td>7</td><td>3</td><td>1</td><td>42%</td><td>58%</td><td>49%</td><td>3</td><td>51%</td><td>Parc des Princes</td></tr><tr><td> Group stage: Matchday 4 </td><td>12-10-2022</td><td>FALSE</td><td>FALSE</td><td>FALSE</td><td>Napoli</td><td>Ajax</td><td>4</td><td>2</td><td>45%</td><td>55%</td><td>13</td><td>13</td><td>5</td><td>3</td><td>49%</td><td>51%</td><td>36%</td><td>9</td><td>64%</td><td>San Paolo</td></tr><tr><td> Group stage: Matchday 4 </td><td>12-10-2022</td><td>FALSE</td><td>FALSE</td><td>FALSE</td><td>Rangers</td><td>Liverpool</td><td>1</td><td>7</td><td>43%</td><td>57%</td><td>7</td><td>20</td><td>2</td><td>9</td><td>48%</td><td>52%</td><td>40%</td><td>4</td><td>60%</td><td>Ibrox Stadium</td></tr><tr><td> Group stage: Matchday 4 </td><td>12-10-2022</td><td>FALSE</td><td>FALSE</td><td>FALSE</td><td>Atletico Madrid</td><td>Club Brugge</td><td>0</td><td>0</td><td>66%</td><td>34%</td><td>21</td><td>5</td><td>9</td><td>1</td><td>49%</td><td>51%</td><td>50%</td><td>8</td><td>50%</td><td>Vicente Calderon</td></tr><tr><td> Group stage: Matchday 4 </td><td>12-10-2022</td><td>FALSE</td><td>FALSE</td><td>FALSE</td><td>Bayer Leverkusen</td><td>Porto</td><td>0</td><td>3</td><td>65%</td><td>35%</td><td>17</td><td>5</td><td>4</td><td>3</td><td>46%</td><td>54%</td><td>40%</td><td>9</td><td>60%</td><td>BayArena</td></tr><tr><td> Group stage: Matchday 4 </td><td>12-10-2022</td><td>FALSE</td><td>FALSE</td><td>FALSE</td><td>Viktoria Plze?</td><td>Bayern Munich</td><td>2</td><td>4</td><td>31%</td><td>69%</td><td>15</td><td>15</td><td>6</td><td>8</td><td>46%</td><td>54%</td><td>42%</td><td>4</td><td>58%</td><td>Doosan Arena</td></tr><tr><td> Group stage: Matchday 4 </td><td>12-10-2022</td><td>FALSE</td><td>FALSE</td><td>FALSE</td><td>Barcelona</td><td>Internazionale</td><td>3</td><td>3</td><td>62%</td><td>38%</td><td>25</td><td>11</td><td>11</td><td>8</td><td>38%</td><td>62%</td><td>37%</td><td>5</td><td>63%</td><td>Nou Camp</td></tr><tr><td> Group stage: Matchday 4 </td><td>12-10-2022</td><td>FALSE</td><td>FALSE</td><td>FALSE</td><td>Tottenham Hotspur</td><td>Eintracht Frankfurt</td><td>3</td><td>2</td><td>52%</td><td>48%</td><td>11</td><td>11</td><td>8</td><td>6</td><td>48%</td><td>52%</td><td>41%</td><td>1</td><td>59%</td><td>Tottenham Hotspur Stadium</td></tr><tr><td> Group stage: Matchday 4 </td><td>12-10-2022</td><td>FALSE</td><td>FALSE</td><td>FALSE</td><td>Sporting CP</td><td>Marseille</td><td>0</td><td>2</td><td>31%</td><td>59%</td><td>4</td><td>16</td><td>2</td><td>5</td><td>47%</td><td>53%</td><td>47%</td><td>9</td><td>53%</td><td>Jos� Alvalade</td></tr><tr><td> Group stage: Matchday 5 </td><td>25-10-2022</td><td>FALSE</td><td>FALSE</td><td>FALSE</td><td>Salzburg</td><td>Chelsea</td><td>1</td><td>2</td><td>29%</td><td>71%</td><td>16</td><td>15</td><td>7</td><td>11</td><td>43%</td><td>57%</td><td>47%</td><td>6</td><td>53%</td><td>Red Bull Arena</td></tr><tr><td> Group stage: Matchday 5 </td><td>25-10-2022</td><td>FALSE</td><td>FALSE</td><td>FALSE</td><td>Dinamo Zagreb</td><td>AC Milan</td><td>0</td><td>4</td><td>56%</td><td>44%</td><td>11</td><td>22</td><td>6</td><td>10</td><td>50%</td><td>50%</td><td>40%</td><td>4</td><td>60%</td><td>Maksimir</td></tr><tr><td> Group stage: Matchday 5 </td><td>25-10-2022</td><td>FALSE</td><td>FALSE</td><td>FALSE</td><td>Celtic</td><td>Shakhtar Donetsk</td><td>1</td><td>1</td><td>55%</td><td>45%</td><td>15</td><td>8</td><td>5</td><td>3</td><td>46%</td><td>54%</td><td>46%</td><td>10</td><td>54%</td><td>Celtic Park</td></tr><tr><td> Group stage: Matchday 5 </td><td>25-10-2022</td><td>FALSE</td><td>FALSE</td><td>FALSE</td><td>RB Leipzig</td><td>Real Madrid</td><td>3</td><td>2</td><td>43%</td><td>57%</td><td>14</td><td>12</td><td>6</td><td>6</td><td>42%</td><td>58%</td><td>47%</td><td>2</td><td>53%</td><td>Red Bull Arena</td></tr><tr><td> Group stage: Matchday 5 </td><td>25-10-2022</td><td>FALSE</td><td>FALSE</td><td>FALSE</td><td>Sevilla</td><td>K�benhavn</td><td>3</td><td>0</td><td>58%</td><td>42%</td><td>15</td><td>10</td><td>11</td><td>2</td><td>37%</td><td>63%</td><td>41%</td><td>2</td><td>59%</td><td>Ram�n S�nchez Pizju�n</td></tr><tr><td> Group stage: Matchday 5 </td><td>25-10-2022</td><td>FALSE</td><td>FALSE</td><td>FALSE</td><td>Borussia Dortmund</td><td>Manchester City</td><td>0</td><td>0</td><td>27%</td><td>73%</td><td>11</td><td>8</td><td>4</td><td>3</td><td>44%</td><td>56%</td><td>37%</td><td>10</td><td>63%</td><td>Signal Iduna Park</td></tr><tr><td> Group stage: Matchday 5 </td><td>25-10-2022</td><td>FALSE</td><td>FALSE</td><td>FALSE</td><td>Benfica</td><td>Juventus</td><td>4</td><td>3</td><td>55%</td><td>45%</td><td>15</td><td>13</td><td>6</td><td>6</td><td>38%</td><td>62%</td><td>42%</td><td>4</td><td>58%</td><td>Stadion da Luz</td></tr><tr><td> Group stage: Matchday 5 </td><td>25-10-2022</td><td>FALSE</td><td>FALSE</td><td>FALSE</td><td>Paris Saint-Germain</td><td>Maccabi Haifa</td><td>7</td><td>2</td><td>63%</td><td>37%</td><td>21</td><td>13</td><td>9</td><td>5</td><td>43%</td><td>57%</td><td>50%</td><td>5</td><td>50%</td><td>Parc des Princes</td></tr><tr><td> Group stage: Matchday 5 </td><td>26-10-2022</td><td>FALSE</td><td>FALSE</td><td>FALSE</td><td>Ajax</td><td>Liverpool</td><td>0</td><td>3</td><td>49%</td><td>51%</td><td>11</td><td>13</td><td>2</td><td>5</td><td>35%</td><td>65%</td><td>43%</td><td>5</td><td>57%</td><td>Amsterdam Arena</td></tr><tr><td> Group stage: Matchday 5 </td><td>26-10-2022</td><td>FALSE</td><td>FALSE</td><td>FALSE</td><td>Napoli</td><td>Rangers</td><td>3</td><td>0</td><td>65%</td><td>35%</td><td>14</td><td>9</td><td>6</td><td>1</td><td>42%</td><td>58%</td><td>44%</td><td>2</td><td>56%</td><td>San Paolo</td></tr><tr><td> Group stage: Matchday 5 </td><td>26-10-2022</td><td>FALSE</td><td>FALSE</td><td>FALSE</td><td>Club Brugge</td><td>Porto</td><td>0</td><td>4</td><td>57%</td><td>43%</td><td>10</td><td>18</td><td>4</td><td>9</td><td>47%</td><td>53%</td><td>38%</td><td>8</td><td>62%</td><td>Jan Breydel</td></tr><tr><td> Group stage: Matchday 5 </td><td>26-10-2022</td><td>FALSE</td><td>FALSE</td><td>FALSE</td><td>Atletico Madrid</td><td>Bayer Leverkusen</td><td>2</td><td>2</td><td>64%</td><td>36%</td><td>23</td><td>13</td><td>10</td><td>7</td><td>43%</td><td>57%</td><td>44%</td><td>4</td><td>56%</td><td>Vicente Calderon</td></tr><tr><td> Group stage: Matchday 5 </td><td>26-10-2022</td><td>FALSE</td><td>FALSE</td><td>FALSE</td><td>Internazionale</td><td>Viktoria Plze?</td><td>4</td><td>0</td><td>64%</td><td>36%</td><td>22</td><td>5</td><td>9</td><td>1</td><td>37%</td><td>63%</td><td>48%</td><td>9</td><td>52%</td><td>San Siro</td></tr><tr><td> Group stage: Matchday 5 </td><td>26-10-2022</td><td>FALSE</td><td>FALSE</td><td>FALSE</td><td>Barcelona</td><td>Bayern Munich</td><td>0</td><td>3</td><td>52%</td><td>48%</td><td>9</td><td>14</td><td>0</td><td>8</td><td>38%</td><td>62%</td><td>39%</td><td>4</td><td>61%</td><td>Nou Camp</td></tr><tr><td> Group stage: Matchday 5 </td><td>26-10-2022</td><td>FALSE</td><td>FALSE</td><td>FALSE</td><td>Eintracht Frankfurt</td><td>Marseille</td><td>2</td><td>1</td><td>43%</td><td>57%</td><td>9</td><td>11</td><td>4</td><td>3</td><td>40%</td><td>60%</td><td>36%</td><td>1</td><td>64%</td><td>Eintracht-Stadion</td></tr><tr><td> Group stage: Matchday 5 </td><td>26-10-2022</td><td>FALSE</td><td>FALSE</td><td>FALSE</td><td>Tottenham Hotspur</td><td>Sporting CP</td><td>1</td><td>1</td><td>59%</td><td>41%</td><td>18</td><td>10</td><td>7</td><td>4</td><td>35%</td><td>65%</td><td>47%</td><td>10</td><td>53%</td><td>Tottenham Hotspur Stadium</td></tr><tr><td> Group stage: Matchday 6 </td><td>1-11-2022</td><td>FALSE</td><td>FALSE</td><td>FALSE</td><td>Rangers</td><td>Ajax</td><td>1</td><td>3</td><td>45%</td><td>55%</td><td>8</td><td>13</td><td>3</td><td>7</td><td>39%</td><td>61%</td><td>40%</td><td>10</td><td>60%</td><td>Ibrox Stadium</td></tr><tr><td> Group stage: Matchday 6 </td><td>1-11-2022</td><td>FALSE</td><td>FALSE</td><td>FALSE</td><td>Liverpool</td><td>Napoli</td><td>2</td><td>0</td><td>53%</td><td>47%</td><td>14</td><td>10</td><td>6</td><td>2</td><td>41%</td><td>59%</td><td>39%</td><td>7</td><td>61%</td><td>Anfield</td></tr><tr><td> Group stage: Matchday 6 </td><td>1-11-2022</td><td>FALSE</td><td>FALSE</td><td>FALSE</td><td>Porto</td><td>Atletico Madrid</td><td>2</td><td>1</td><td>51%</td><td>49%</td><td>16</td><td>11</td><td>8</td><td>5</td><td>41%</td><td>59%</td><td>44%</td><td>1</td><td>56%</td><td>Est�dio do Drag�o</td></tr><tr><td> Group stage: Matchday 6 </td><td>1-11-2022</td><td>FALSE</td><td>FALSE</td><td>FALSE</td><td>Bayer Leverkusen</td><td>Club Brugge</td><td>0</td><td>0</td><td>54%</td><td>46%</td><td>13</td><td>8</td><td>4</td><td>1</td><td>38%</td><td>62%</td><td>36%</td><td>8</td><td>64%</td><td>BayArena</td></tr><tr><td> Group stage: Matchday 6 </td><td>1-11-2022</td><td>FALSE</td><td>FALSE</td><td>FALSE</td><td>Bayern Munich</td><td>Internazionale</td><td>2</td><td>0</td><td>60%</td><td>40%</td><td>23</td><td>7</td><td>8</td><td>4</td><td>48%</td><td>52%</td><td>43%</td><td>1</td><td>57%</td><td>Allianz Arena</td></tr><tr><td> Group stage: Matchday 6 </td><td>1-11-2022</td><td>FALSE</td><td>FALSE</td><td>FALSE</td><td>Viktoria Plze?</td><td>Barcelona</td><td>2</td><td>4</td><td>23%</td><td>77%</td><td>22</td><td>11</td><td>8</td><td>7</td><td>46%</td><td>54%</td><td>49%</td><td>1</td><td>51%</td><td>Doosan Arena</td></tr><tr><td> Group stage: Matchday 6 </td><td>1-11-2022</td><td>FALSE</td><td>FALSE</td><td>FALSE</td><td>Sporting CP</td><td>Eintracht Frankfurt</td><td>1</td><td>2</td><td>45%</td><td>55%</td><td>5</td><td>6</td><td>2</td><td>4</td><td>43%</td><td>57%</td><td>48%</td><td>1</td><td>52%</td><td>Jos� Alvalade</td></tr><tr><td> Group stage: Matchday 6 </td><td>1-11-2022</td><td>FALSE</td><td>FALSE</td><td>FALSE</td><td>Marseille</td><td>Tottenham Hotspur</td><td>1</td><td>2</td><td>64%</td><td>36%</td><td>16</td><td>7</td><td>4</td><td>3</td><td>36%</td><td>64%</td><td>42%</td><td>4</td><td>58%</td><td>V�lodrome</td></tr><tr><td> Group stage: Matchday 6 </td><td>2-11-2022</td><td>FALSE</td><td>FALSE</td><td>FALSE</td><td>AC Milan</td><td>Salzburg</td><td>4</td><td>0</td><td>48%</td><td>52%</td><td>15</td><td>16</td><td>7</td><td>6</td><td>47%</td><td>53%</td><td>37%</td><td>1</td><td>63%</td><td>San Siro</td></tr><tr><td> Group stage: Matchday 6 </td><td>2-11-2022</td><td>FALSE</td><td>FALSE</td><td>FALSE</td><td>Chelsea</td><td>Dinamo Zagreb</td><td>2</td><td>1</td><td>59%</td><td>41%</td><td>22</td><td>7</td><td>6</td><td>2</td><td>45%</td><td>55%</td><td>39%</td><td>5</td><td>61%</td><td>Stamford Bridge</td></tr><tr><td>Group stage: Matchday 6 </td><td>2-11-2022</td><td>FALSE</td><td>FALSE</td><td>FALSE</td><td>Real Madrid</td><td>Celtic</td><td>5</td><td>1</td><td>65%</td><td>35%</td><td>25</td><td>14</td><td>10</td><td>8</td><td>45%</td><td>55%</td><td>44%</td><td>7</td><td>56%</td><td>Santiago Bernabeu</td></tr><tr><td>Group stage: Matchday 6 </td><td>2-11-2022</td><td>FALSE</td><td>FALSE</td><td>FALSE</td><td>Shakhtar Donetsk</td><td>RB Leipzig</td><td>0</td><td>4</td><td>48%</td><td>52%</td><td>5</td><td>12</td><td>1</td><td>7</td><td>39%</td><td>61%</td><td>40%</td><td>6</td><td>60%</td><td>Donbass Arena</td></tr><tr><td>Group stage: Matchday 6 </td><td>2-11-2022</td><td>FALSE</td><td>FALSE</td><td>FALSE</td><td>K�benhavn</td><td>Borussia Dortmund</td><td>1</td><td>1</td><td>42%</td><td>58%</td><td>22</td><td>13</td><td>9</td><td>1</td><td>37%</td><td>63%</td><td>46%</td><td>2</td><td>54%</td><td>Parken Stadium</td></tr><tr><td>Group stage: Matchday 6 </td><td>2-11-2022</td><td>FALSE</td><td>FALSE</td><td>FALSE</td><td>Manchester City</td><td>Sevilla</td><td>3</td><td>1</td><td>62%</td><td>38%</td><td>21</td><td>7</td><td>7</td><td>2</td><td>49%</td><td>51%</td><td>47%</td><td>4</td><td>53%</td><td>Etihad</td></tr><tr><td>Group stage: Matchday 6 </td><td>2-11-2022</td><td>FALSE</td><td>FALSE</td><td>FALSE</td><td>Juventus</td><td>Paris Saint-Germain</td><td>1</td><td>2</td><td>47%</td><td>53%</td><td>15</td><td>7</td><td>2</td><td>5</td><td>47%</td><td>53%</td><td>40%</td><td>6</td><td>60%</td><td>Allianz Stadium</td></tr><tr><td>Group stage: Matchday 6 </td><td>2-11-2022</td><td>FALSE</td><td>FALSE</td><td>FALSE</td><td>Maccabi Haifa</td><td>Benfica</td><td>1</td><td>6</td><td>42%</td><td>58%</td><td>10</td><td>17</td><td>2</td><td>10</td><td>38%</td><td>62%</td><td>39%</td><td>7</td><td>61%</td><td>Sammy Ofer</td></tr><tr><td> Round of 16 first leg </td><td>16-02-2023</td><td>FALSE</td><td>FALSE</td><td>FALSE</td><td>Dortmund</td><td>Chelsea</td><td>1</td><td>0</td><td>51%</td><td>49%</td><td>14</td><td>21</td><td>2</td><td>8</td><td>45%</td><td>55%</td><td>45%</td><td>8</td><td>55%</td><td>Signal Iduna Park</td></tr><tr><td> Round of 16 first leg </td><td>16-02-2023</td><td>FALSE</td><td>FALSE</td><td>FALSE</td><td>Club Brugge</td><td>Benfica</td><td>0</td><td>2</td><td>45%</td><td>55%</td><td>4</td><td>14</td><td>1</td><td>4</td><td>45%</td><td>55%</td><td>39%</td><td>4</td><td>61%</td><td>Jan Breydel</td></tr><tr><td> Round of 16 first leg </td><td>15-02-2023</td><td>FALSE</td><td>FALSE</td><td>FALSE</td><td>Paris Saint-Germain</td><td>Bayern Munich</td><td>0</td><td>1</td><td>46%</td><td>54%</td><td>9</td><td>18</td><td>4</td><td>7</td><td>37%</td><td>63%</td><td>45%</td><td>8</td><td>55%</td><td>Parc des Princes</td></tr><tr><td> Round of 16 first leg </td><td>15-02-2023</td><td>FALSE</td><td>FALSE</td><td>FALSE</td><td>Milan</td><td>Tottenham</td><td>1</td><td>0</td><td>47%</td><td>53%</td><td>9</td><td>11</td><td>4</td><td>3</td><td>38%</td><td>62%</td><td>49%</td><td>2</td><td>51%</td><td>San Siro</td></tr><tr><td> Round of 16 first leg </td><td>23-02-2023</td><td>FALSE</td><td>FALSE</td><td>FALSE</td><td>Inter</td><td>FC Porto</td><td>1</td><td>0</td><td>60%</td><td>40%</td><td>18</td><td>10</td><td>4</td><td>4</td><td>44%</td><td>56%</td><td>40%</td><td>3</td><td>60%</td><td>San Siro</td></tr><tr><td> Round of 16 first leg </td><td>23-02-2023</td><td>FALSE</td><td>FALSE</td><td>FALSE</td><td>Leipzig</td><td>Manchester City</td><td>1</td><td>1</td><td>38%</td><td>62%</td><td>7</td><td>12</td><td>4</td><td>3</td><td>42%</td><td>58%</td><td>41%</td><td>4</td><td>59%</td><td>Red Bull Arena</td></tr><tr><td> Round of 16 first leg </td><td>22-02-2023</td><td>FALSE</td><td>FALSE</td><td>FALSE</td><td>Eintracht Frankfurt</td><td>Napoli</td><td>0</td><td>2</td><td>30%</td><td>70%</td><td>5</td><td>18</td><td>1</td><td>10</td><td>35%</td><td>65%</td><td>46%</td><td>5</td><td>54%</td><td>Frankfurt Stadion</td></tr><tr><td> Round of 16 first leg </td><td>22-02-2023</td><td>FALSE</td><td>FALSE</td><td>FALSE</td><td>Liverpool</td><td>Real Madrid\n",
       "</td><td>null</td><td>null</td><td>null</td><td>null</td><td>null</td><td>null</td><td>null</td><td>null</td><td>null</td><td>null</td><td>null</td><td>null</td><td>null</td><td>null</td></tr><tr><td>,2,5,52%,48%,9,9,5,6,45%,55%,46%,,54%,Anfield\n",
       "</td><td>null</td><td>null</td><td>null</td><td>null</td><td>null</td><td>null</td><td>null</td><td>null</td><td>null</td><td>null</td><td>null</td><td>null</td><td>null</td><td>null</td><td>null</td><td>null</td><td>null</td><td>null</td><td>null</td><td>null</td></tr><tr><td> Round of 16 second leg </td><td>09-03-2023</td><td>FALSE</td><td>FALSE</td><td>FALSE</td><td>Tottenham</td><td>Milan</td><td>0</td><td>0</td><td>54%</td><td>46%</td><td>9</td><td>14</td><td>2</td><td>3</td><td>38%</td><td>62%</td><td>47%</td><td>1</td><td>53%</td><td>Tottenham Hotspur Stadium</td></tr><tr><td> Round of 16 second leg </td><td>09-03-2023</td><td>FALSE</td><td>FALSE</td><td>FALSE</td><td>Bayern Munich</td><td>Paris Saint-Germain</td><td>2</td><td>0</td><td>45%</td><td>55%</td><td>12</td><td>10</td><td>5</td><td>4</td><td>36%</td><td>64%</td><td>41%</td><td>7</td><td>59%</td><td>Allianz Arena</td></tr><tr><td> Round of 16 second leg </td><td>08-03-2023</td><td>FALSE</td><td>FALSE</td><td>FALSE</td><td>Chelsea</td><td>Dortmund</td><td>2</td><td>0</td><td>39%</td><td>61%</td><td>13</td><td>13</td><td>4</td><td>4</td><td>47%</td><td>53%</td><td>36%</td><td>2</td><td>64%</td><td>Stamford Bridge</td></tr><tr><td> Round of 16 second leg </td><td>08-03-2023</td><td>FALSE</td><td>FALSE</td><td>FALSE</td><td>Benfica</td><td>Club Brugge</td><td>5</td><td>1</td><td>60%</td><td>40%</td><td>20</td><td>13</td><td>8</td><td>2</td><td>50%</td><td>50%</td><td>37%</td><td>4</td><td>63%</td><td>Stadion da Luz</td></tr><tr><td> Round of 16 second leg </td><td>16-03-2023</td><td>FALSE</td><td>FALSE</td><td>FALSE</td><td>Napoli</td><td>Eintracht Frankfurt</td><td>3</td><td>0</td><td>60%</td><td>40%</td><td>12</td><td>8</td><td>8</td><td>1</td><td>43%</td><td>57%</td><td>36%</td><td>9</td><td>64%</td><td>Stadio Diego Armando Maradona</td></tr><tr><td> Round of 16 second leg </td><td>16-03-2023</td><td>FALSE</td><td>FALSE</td><td>FALSE</td><td>Real Madrid</td><td>Liverpool</td><td>1</td><td>0</td><td>54%</td><td>46%</td><td>17</td><td>9</td><td>8</td><td>5</td><td>42%</td><td>58%</td><td>37%</td><td>3</td><td>63%</td><td>Santiago Bernabeu</td></tr><tr><td> Round of 16 second leg </td><td>15-03-2023</td><td>FALSE</td><td>FALSE</td><td>FALSE</td><td>FC Porto</td><td>Inter</td><td>0</td><td>0</td><td>68%</td><td>32%</td><td>21</td><td>11</td><td>7</td><td>5</td><td>35%</td><td>65%</td><td>48%</td><td>5</td><td>52%</td><td>Est�dio do Drag�o</td></tr><tr><td> Round of 16 second leg </td><td>15-03-2023</td><td>FALSE</td><td>FALSE</td><td>FALSE</td><td>Manchester City</td><td>Leipzig</td><td>7</td><td>0</td><td>67%</td><td>33%</td><td>23</td><td>4</td><td>16</td><td>1</td><td>39%</td><td>61%</td><td>37%</td><td>6</td><td>63%</td><td>Etihad</td></tr><tr><td> Quarter-finals first leg </td><td>13-04-2023</td><td>FALSE</td><td>FALSE</td><td>FALSE</td><td>Milan</td><td>Napoli</td><td>1</td><td>0</td><td>46%</td><td>54%</td><td>12</td><td>16</td><td>2</td><td>6</td><td>48%</td><td>52%</td><td>46%</td><td>2</td><td>54%</td><td>San Siro</td></tr><tr><td> Quarter-finals first leg </td><td>13-04-2023</td><td>FALSE</td><td>FALSE</td><td>FALSE</td><td>Real Madrid</td><td>Chelsea</td><td>2</td><td>0</td><td>57%</td><td>43%</td><td>18</td><td>7</td><td>10</td><td>3</td><td>39%</td><td>61%</td><td>37%</td><td>8</td><td>63%</td><td>Santiago Bernabeu</td></tr><tr><td> Quarter-finals first leg </td><td>12-04-2023</td><td>FALSE</td><td>FALSE</td><td>FALSE</td><td>Manchester City</td><td>Bayern Munich</td><td>3</td><td>0</td><td>44%</td><td>56%</td><td>17</td><td>12</td><td>9</td><td>4</td><td>50%</td><td>50%</td><td>40%</td><td>6</td><td>60%</td><td>Etihad</td></tr><tr><td> Quarter-finals first leg </td><td>12-04-2023</td><td>FALSE</td><td>FALSE</td><td>FALSE</td><td>Benfica</td><td>Inter</td><td>0</td><td>2</td><td>58%</td><td>42%</td><td>12</td><td>9</td><td>2</td><td>4</td><td>40%</td><td>60%</td><td>39%</td><td>7</td><td>61%</td><td>Stadion da Luz</td></tr><tr><td> Quarter-finals second leg </td><td>20-04-2023</td><td>FALSE</td><td>FALSE</td><td>FALSE</td><td>Inter</td><td>Benfica</td><td>3</td><td>3</td><td>40%</td><td>60%</td><td>11</td><td>12</td><td>3</td><td>5</td><td>43%</td><td>57%</td><td>44%</td><td>9</td><td>56%</td><td>San Siro</td></tr><tr><td> Quarter-finals second leg </td><td>20-04-2023</td><td>FALSE</td><td>FALSE</td><td>FALSE</td><td>Bayern Munich</td><td>Manchester City</td><td>1</td><td>1</td><td>58%</td><td>42%</td><td>19</td><td>7</td><td>7</td><td>2</td><td>36%</td><td>64%</td><td>44%</td><td>1</td><td>56%</td><td>Allianz Arena</td></tr><tr><td> Quarter-finals second leg </td><td>19-04-2023</td><td>FALSE</td><td>FALSE</td><td>FALSE</td><td>Chelsea</td><td>Real Madrid</td><td>0</td><td>2</td><td>55%</td><td>45%</td><td>19</td><td>9</td><td>6</td><td>6</td><td>38%</td><td>62%</td><td>43%</td><td>2</td><td>57%</td><td>Stamford Bridge</td></tr><tr><td> Quarter-finals second leg </td><td>19-04-2023</td><td>FALSE</td><td>FALSE</td><td>FALSE</td><td>Napoli</td><td>Milan</td><td>1</td><td>1</td><td>74%</td><td>26%</td><td>23</td><td>6</td><td>4</td><td>4</td><td>46%</td><td>54%</td><td>38%</td><td>4</td><td>62%</td><td>Stadio Diego Armando Maradona</td></tr><tr><td> Semi-finals first leg </td><td>11-05-2023</td><td>FALSE</td><td>FALSE</td><td>FALSE</td><td>Milan</td><td>Inter</td><td>0</td><td>2</td><td>58%</td><td>42%</td><td>13</td><td>16</td><td>2</td><td>5</td><td>45%</td><td>55%</td><td>50%</td><td>5</td><td>50%</td><td>San Siro</td></tr><tr><td> Semi-finals first leg </td><td>10-05-2023</td><td>FALSE</td><td>FALSE</td><td>FALSE</td><td>Real Madrid</td><td>Manchester City</td><td>1</td><td>1</td><td>44%</td><td>56%</td><td>13</td><td>10</td><td>4</td><td>6</td><td>50%</td><td>50%</td><td>41%</td><td>8</td><td>59%</td><td>Santiago Bernabeu</td></tr><tr><td> Semi-finals second leg </td><td>18-05-2023</td><td>FALSE</td><td>FALSE</td><td>FALSE</td><td>Manchester City</td><td>Real Madrid</td><td>4</td><td>0</td><td>60%</td><td>40%</td><td>16</td><td>7</td><td>8</td><td>3</td><td>41%</td><td>59%</td><td>46%</td><td>6</td><td>54%</td><td>Etihad</td></tr><tr><td> Semi-finals second leg </td><td>17-05-2023</td><td>FALSE</td><td>FALSE</td><td>FALSE</td><td>Inter</td><td>Milan</td><td>1</td><td>0</td><td>43%</td><td>57%</td><td>15</td><td>5</td><td>4</td><td>1</td><td>45%</td><td>55%</td><td>44%</td><td>5</td><td>56%</td><td>San Siro</td></tr><tr><td> Final </td><td>11-06-2023</td><td>FALSE</td><td>FALSE</td><td>FALSE</td><td>Manchester City</td><td>Inter</td><td>1</td><td>0</td><td>57%</td><td>43%</td><td>4</td><td>6</td><td>2</td><td>1</td><td>36%</td><td>64%</td><td>46%</td><td>8</td><td>54%</td><td>Atat�rk Olympic Stadium=</td></tr></tbody></table></div>"
      ]
     },
     "metadata": {
      "application/vnd.databricks.v1+output": {
       "addedWidgets": {},
       "aggData": [],
       "aggError": "",
       "aggOverflow": false,
       "aggSchema": [],
       "aggSeriesLimitReached": false,
       "aggType": "",
       "arguments": {},
       "columnCustomDisplayInfos": {},
       "data": [
        [
         " Group stage: Matchday 1 ",
         "6-9-2022",
         "FALSE",
         "FALSE",
         "FALSE",
         "Dinamo Zagreb",
         "Chelsea",
         "1",
         "0",
         "31%",
         "69%",
         "6",
         "15",
         "3",
         "3",
         "44%",
         "56%",
         "49%",
         "10",
         "51%",
         "Maksimir"
        ],
        [
         " Group stage: Matchday 1 ",
         "6-9-2022",
         "FALSE",
         "FALSE",
         "FALSE",
         "Salzburg",
         "AC Milan",
         "1",
         "1",
         "34%",
         "66%",
         "16",
         "14",
         "4",
         "3",
         "38%",
         "62%",
         "41%",
         "9",
         "59%",
         "Red Bull Arena"
        ],
        [
         " Group stage: Matchday 1 ",
         "6-9-2022",
         "FALSE",
         "FALSE",
         "FALSE",
         "Celtic",
         "Real Madrid",
         "0",
         "3",
         "35%",
         "65%",
         "10",
         "12",
         "4",
         "6",
         "46%",
         "54%",
         "47%",
         "8",
         "53%",
         "Celtic Park"
        ],
        [
         " Group stage: Matchday 1 ",
         "6-9-2022",
         "FALSE",
         "FALSE",
         "FALSE",
         "RB Leipzig",
         "Shakhtar Donetsk",
         "1",
         "4",
         "68%",
         "32%",
         "13",
         "5",
         "2",
         "4",
         "47%",
         "53%",
         "49%",
         "8",
         "51%",
         "Red Bull Arena"
        ],
        [
         " Group stage: Matchday 1 ",
         "6-9-2022",
         "FALSE",
         "FALSE",
         "FALSE",
         "Borussia Dortmund",
         "K�benhavn",
         "3",
         "0",
         "63%",
         "37%",
         "15",
         "7",
         "4",
         "2",
         "49%",
         "51%",
         "45%",
         "6",
         "55%",
         "Signal Iduna Park"
        ],
        [
         " Group stage: Matchday 1 ",
         "6-9-2022",
         "FALSE",
         "FALSE",
         "FALSE",
         "Sevilla",
         "Manchester City",
         "0",
         "4",
         "38%",
         "62%",
         "6",
         "24",
         "1",
         "10",
         "42%",
         "58%",
         "43%",
         "2",
         "57%",
         "Ram�n S�nchez Pizju�n"
        ],
        [
         " Group stage: Matchday 1 ",
         "6-9-2022",
         "FALSE",
         "FALSE",
         "FALSE",
         "Paris Saint-Germain",
         "Juventus",
         "2",
         "1",
         "58%",
         "42%",
         "15",
         "13",
         "6",
         "4",
         "36%",
         "64%",
         "45%",
         "3",
         "55%",
         "Parc des Princes"
        ],
        [
         " Group stage: Matchday 1 ",
         "6-9-2022",
         "FALSE",
         "FALSE",
         "FALSE",
         "Benfica",
         "Maccabi Haifa",
         "2",
         "0",
         "57%",
         "43%",
         "14",
         "7",
         "5",
         "2",
         "46%",
         "54%",
         "42%",
         "8",
         "58%",
         "Stadion da Luz"
        ],
        [
         " Group stage: Matchday 1 ",
         "7-9-2022",
         "FALSE",
         "FALSE",
         "FALSE",
         "Ajax",
         "Rangers",
         "4",
         "0",
         "76%",
         "24%",
         "17",
         "4",
         "9",
         "1",
         "47%",
         "53%",
         "45%",
         "3",
         "55%",
         "Amsterdam Arena"
        ],
        [
         " Group stage: Matchday 1 ",
         "7-9-2022",
         "FALSE",
         "FALSE",
         "FALSE",
         "Napoli",
         "Liverpool",
         "4",
         "1",
         "38%",
         "62%",
         "18",
         "15",
         "9",
         "7",
         "44%",
         "56%",
         "45%",
         "8",
         "55%",
         "San Paolo"
        ],
        [
         " Group stage: Matchday 1 ",
         "7-9-2022",
         "FALSE",
         "FALSE",
         "FALSE",
         "Atletico Madrid",
         "Porto",
         "2",
         "1",
         "54%",
         "46%",
         "10",
         "17",
         "3",
         "3",
         "45%",
         "55%",
         "38%",
         "3",
         "62%",
         "Vicente Calderon"
        ],
        [
         " Group stage: Matchday 1 ",
         "7-9-2022",
         "FALSE",
         "FALSE",
         "FALSE",
         "Club Brugge",
         "Bayer Leverkusen",
         "1",
         "0",
         "47%",
         "53%",
         "9",
         "14",
         "3",
         "3",
         "44%",
         "56%",
         "43%",
         "1",
         "57%",
         "Jan Breydel"
        ],
        [
         " Group stage: Matchday 1 ",
         "7-9-2022",
         "FALSE",
         "FALSE",
         "FALSE",
         "Internazionale",
         "Bayern Munich",
         "0",
         "2",
         "44%",
         "56%",
         "9",
         "21",
         "2",
         "11",
         "45%",
         "55%",
         "41%",
         "8",
         "59%",
         "San Siro"
        ],
        [
         " Group stage: Matchday 1 ",
         "7-9-2022",
         "FALSE",
         "FALSE",
         "FALSE",
         "Barcelona",
         "Viktoria Plze?",
         "5",
         "1",
         "77%",
         "23%",
         "20",
         "8",
         "11",
         "1",
         "43%",
         "57%",
         "37%",
         "10",
         "63%",
         "Nou Camp"
        ],
        [
         " Group stage: Matchday 1 ",
         "7-9-2022",
         "FALSE",
         "FALSE",
         "FALSE",
         "Eintracht Frankfurt",
         "Sporting CP",
         "0",
         "3",
         "43%",
         "57%",
         "11",
         "8",
         "2",
         "5",
         "42%",
         "58%",
         "38%",
         "10",
         "62%",
         "Eintracht-Stadion"
        ],
        [
         " Group stage: Matchday 1 ",
         "7-9-2022",
         "FALSE",
         "FALSE",
         "FALSE",
         "Tottenham Hotspur",
         "Marseille",
         "2",
         "0",
         "49%",
         "51%",
         "18",
         "9",
         "2",
         "1",
         "45%",
         "55%",
         "44%",
         "3",
         "56%",
         "Tottenham Hotspur Stadium"
        ],
        [
         " Group stage: Matchday 2 ",
         "13-9-2022",
         "FALSE",
         "FALSE",
         "FALSE",
         "Liverpool",
         "Ajax",
         "2",
         "1",
         "57%",
         "43%",
         "24",
         "3",
         "10",
         "1",
         "48%",
         "52%",
         "46%",
         "5",
         "54%",
         "Anfield"
        ],
        [
         " Group stage: Matchday 2 ",
         "13-9-2022",
         "FALSE",
         "FALSE",
         "FALSE",
         "Rangers",
         "Napoli",
         "0",
         "3",
         "46%",
         "54%",
         "22",
         "12",
         "4",
         "5",
         "48%",
         "52%",
         "35%",
         "1",
         "65%",
         "Ibrox Stadium"
        ],
        [
         " Group stage: Matchday 2 ",
         "13-9-2022",
         "FALSE",
         "FALSE",
         "FALSE",
         "Bayer Leverkusen",
         "Atletico Madrid",
         "2",
         "0",
         "45%",
         "55%",
         "18",
         "12",
         "5",
         "3",
         "42%",
         "58%",
         "49%",
         "2",
         "51%",
         "BayArena"
        ],
        [
         " Group stage: Matchday 2 ",
         "13-9-2022",
         "FALSE",
         "FALSE",
         "FALSE",
         "Porto",
         "Club Brugge",
         "0",
         "4",
         "55%",
         "45%",
         "15",
         "13",
         "4",
         "7",
         "35%",
         "65%",
         "44%",
         "9",
         "56%",
         "Est�dio do Drag�o"
        ],
        [
         " Group stage: Matchday 2 ",
         "13-9-2022",
         "FALSE",
         "FALSE",
         "FALSE",
         "Viktoria Plze?",
         "Internazionale",
         "0",
         "2",
         "28%",
         "72%",
         "8",
         "19",
         "1",
         "8",
         "39%",
         "61%",
         "40%",
         "5",
         "60%",
         "Doosan Arena"
        ],
        [
         " Group stage: Matchday 2 ",
         "13-9-2022",
         "FALSE",
         "FALSE",
         "FALSE",
         "Bayern Munich",
         "Barcelona",
         "2",
         "0",
         "46%",
         "54%",
         "13",
         "18",
         "4",
         "4",
         "39%",
         "61%",
         "39%",
         "8",
         "61%",
         "Allianz Arena"
        ],
        [
         " Group stage: Matchday 2 ",
         "13-9-2022",
         "FALSE",
         "FALSE",
         "FALSE",
         "Sporting CP",
         "Tottenham Hotspur",
         "2",
         "0",
         "55%",
         "45%",
         "12",
         "12",
         "6",
         "5",
         "45%",
         "55%",
         "43%",
         "9",
         "57%",
         "Jos� Alvalade"
        ],
        [
         " Group stage: Matchday 2 ",
         "13-9-2022",
         "FALSE",
         "FALSE",
         "FALSE",
         "Marseille",
         "Eintracht Frankfurt",
         "0",
         "1",
         "61%",
         "39%",
         "8",
         "14",
         "4",
         "7",
         "38%",
         "62%",
         "36%",
         "7",
         "64%",
         "V�lodrome"
        ],
        [
         " Group stage: Matchday 2 ",
         "14-9-2022",
         "FALSE",
         "FALSE",
         "FALSE",
         "AC Milan",
         "Dinamo Zagreb",
         "3",
         "1",
         "57%",
         "43%",
         "17",
         "7",
         "7",
         "3",
         "50%",
         "50%",
         "44%",
         "6",
         "56%",
         "San Siro"
        ],
        [
         " Group stage: Matchday 2 ",
         "14-9-2022",
         "FALSE",
         "FALSE",
         "FALSE",
         "Chelsea",
         "Salzburg",
         "1",
         "1",
         "73%",
         "27%",
         "17",
         "4",
         "4",
         "3",
         "39%",
         "61%",
         "45%",
         "8",
         "55%",
         "Stamford Bridge"
        ],
        [
         " Group stage: Matchday 2 ",
         "14-9-2022",
         "FALSE",
         "FALSE",
         "FALSE",
         "Shakhtar Donetsk",
         "Celtic",
         "1",
         "1",
         "43%",
         "57%",
         "5",
         "16",
         "2",
         "6",
         "40%",
         "60%",
         "36%",
         "10",
         "64%",
         "Donbass Arena"
        ],
        [
         " Group stage: Matchday 2 ",
         "14-9-2022",
         "FALSE",
         "FALSE",
         "FALSE",
         "Real Madrid",
         "RB Leipzig",
         "2",
         "0",
         "53%",
         "47%",
         "12",
         "9",
         "3",
         "3",
         "43%",
         "57%",
         "42%",
         "1",
         "58%",
         "Santiago Bernabeu"
        ],
        [
         " Group stage: Matchday 2 ",
         "14-9-2022",
         "FALSE",
         "FALSE",
         "FALSE",
         "Manchester City",
         "Borussia Dortmund",
         "2",
         "1",
         "66%",
         "34%",
         "12",
         "5",
         "3",
         "2",
         "50%",
         "50%",
         "41%",
         "2",
         "59%",
         "Etihad"
        ],
        [
         " Group stage: Matchday 2 ",
         "14-9-2022",
         "FALSE",
         "FALSE",
         "FALSE",
         "K�benhavn",
         "Sevilla",
         "0",
         "0",
         "37%",
         "63%",
         "7",
         "11",
         "2",
         "2",
         "46%",
         "54%",
         "46%",
         "2",
         "54%",
         "Parken Stadium"
        ],
        [
         " Group stage: Matchday 2 ",
         "14-9-2022",
         "FALSE",
         "FALSE",
         "FALSE",
         "Juventus",
         "Benfica",
         "1",
         "2",
         "43%",
         "57%",
         "11",
         "19",
         "3",
         "7",
         "39%",
         "61%",
         "49%",
         "1",
         "51%",
         "Allianz Stadium"
        ],
        [
         " Group stage: Matchday 2 ",
         "14-9-2022",
         "FALSE",
         "FALSE",
         "FALSE",
         "Maccabi Haifa",
         "Paris Saint-Germain",
         "1",
         "3",
         "43%",
         "57%",
         "13",
         "16",
         "5",
         "6",
         "37%",
         "63%",
         "46%",
         "10",
         "54%",
         "Sammy Ofer"
        ],
        [
         " Group stage: Matchday 3 ",
         "4-10-2022",
         "FALSE",
         "FALSE",
         "FALSE",
         "Ajax",
         "Napoli",
         "1",
         "6",
         "43%",
         "57%",
         "8",
         "26",
         "2",
         "13",
         "37%",
         "63%",
         "48%",
         "8",
         "52%",
         "Amsterdam Arena"
        ],
        [
         " Group stage: Matchday 3 ",
         "4-10-2022",
         "FALSE",
         "FALSE",
         "FALSE",
         "Liverpool",
         "Rangers",
         "2",
         "0",
         "64%",
         "36%",
         "23",
         "6",
         "10",
         "2",
         "39%",
         "61%",
         "49%",
         "6",
         "51%",
         "Anfield"
        ],
        [
         " Group stage: Matchday 3 ",
         "4-10-2022",
         "FALSE",
         "FALSE",
         "FALSE",
         "Club Brugge",
         "Atletico Madrid",
         "2",
         "0",
         "47%",
         "53%",
         "7",
         "20",
         "3",
         "5",
         "45%",
         "55%",
         "46%",
         "3",
         "54%",
         "Jan Breydel"
        ],
        [
         " Group stage: Matchday 3 ",
         "4-10-2022",
         "FALSE",
         "FALSE",
         "FALSE",
         "Porto",
         "Bayer Leverkusen",
         "2",
         "0",
         "41%",
         "59%",
         "12",
         "8",
         "4",
         "6",
         "39%",
         "61%",
         "44%",
         "9",
         "56%",
         "Est�dio do Drag�o"
        ],
        [
         " Group stage: Matchday 3 ",
         "4-10-2022",
         "FALSE",
         "FALSE",
         "FALSE",
         "Bayern Munich",
         "Viktoria Plze?",
         "5",
         "0",
         "71%",
         "29%",
         "21",
         "10",
         "13",
         "3",
         "40%",
         "60%",
         "40%",
         "2",
         "60%",
         "Allianz Arena"
        ],
        [
         " Group stage: Matchday 3 ",
         "4-10-2022",
         "FALSE",
         "FALSE",
         "FALSE",
         "Internazionale",
         "Barcelona",
         "1",
         "0",
         "28%",
         "72%",
         "5",
         "7",
         "2",
         "2",
         "37%",
         "63%",
         "40%",
         "5",
         "60%",
         "San Siro"
        ],
        [
         " Group stage: Matchday 3 ",
         "4-10-2022",
         "FALSE",
         "FALSE",
         "FALSE",
         "Marseille",
         "Sporting CP",
         "4",
         "1",
         "56%",
         "44%",
         "20",
         "6",
         "7",
         "2",
         "36%",
         "64%",
         "44%",
         "1",
         "56%",
         "V�lodrome"
        ],
        [
         " Group stage: Matchday 3 ",
         "4-10-2022",
         "FALSE",
         "FALSE",
         "FALSE",
         "Eintracht Frankfurt",
         "Tottenham Hotspur",
         "0",
         "0",
         "43%",
         "57%",
         "12",
         "11",
         "2",
         "2",
         "38%",
         "62%",
         "48%",
         "9",
         "52%",
         "Eintracht-Stadion"
        ],
        [
         " Group stage: Matchday 3 ",
         "5-10-2022",
         "FALSE",
         "FALSE",
         "FALSE",
         "Salzburg",
         "Dinamo Zagreb",
         "1",
         "0",
         "47%",
         "53%",
         "18",
         "10",
         "6",
         "3",
         "49%",
         "51%",
         "40%",
         "7",
         "60%",
         "Red Bull Arena"
        ],
        [
         " Group stage: Matchday 3 ",
         "5-10-2022",
         "FALSE",
         "FALSE",
         "FALSE",
         "Chelsea",
         "AC Milan",
         "3",
         "0",
         "52%",
         "48%",
         "10",
         "4",
         "6",
         "1",
         "38%",
         "62%",
         "46%",
         "6",
         "54%",
         "Stamford Bridge"
        ],
        [
         " Group stage: Matchday 3 ",
         "5-10-2022",
         "FALSE",
         "FALSE",
         "FALSE",
         "RB Leipzig",
         "Celtic",
         "3",
         "1",
         "59%",
         "41%",
         "16",
         "12",
         "6",
         "5",
         "39%",
         "61%",
         "49%",
         "2",
         "51%",
         "Red Bull Arena"
        ],
        [
         " Group stage: Matchday 3 ",
         "5-10-2022",
         "FALSE",
         "FALSE",
         "FALSE",
         "Real Madrid",
         "Shakhtar Donetsk",
         "2",
         "1",
         "60%",
         "40%",
         "36",
         "11",
         "14",
         "3",
         "50%",
         "50%",
         "47%",
         "5",
         "53%",
         "Santiago Bernabeu"
        ],
        [
         " Group stage: Matchday 3 ",
         "5-10-2022",
         "FALSE",
         "FALSE",
         "FALSE",
         "Sevilla",
         "Borussia Dortmund",
         "1",
         "4",
         "59%",
         "41%",
         "20",
         "19",
         "6",
         "7",
         "41%",
         "59%",
         "48%",
         "9",
         "52%",
         "Ram�n S�nchez Pizju�n"
        ],
        [
         " Group stage: Matchday 3 ",
         "5-10-2022",
         "FALSE",
         "FALSE",
         "FALSE",
         "Manchester City",
         "K�benhavn",
         "5",
         "0",
         "76%",
         "24%",
         "30",
         "2",
         "16",
         "0",
         "45%",
         "55%",
         "38%",
         "8",
         "62%",
         "Etihad"
        ],
        [
         " Group stage: Matchday 3 ",
         "5-10-2022",
         "FALSE",
         "FALSE",
         "FALSE",
         "Juventus",
         "Maccabi Haifa",
         "3",
         "1",
         "51%",
         "49%",
         "16",
         "20",
         "7",
         "4",
         "49%",
         "51%",
         "50%",
         "8",
         "50%",
         "Allianz Stadium"
        ],
        [
         " Group stage: Matchday 3 ",
         "5-10-2022",
         "FALSE",
         "FALSE",
         "FALSE",
         "Benfica",
         "Paris Saint-Germain",
         "1",
         "1",
         "35%",
         "65%",
         "8",
         "15",
         "6",
         "7",
         "43%",
         "57%",
         "37%",
         "6",
         "63%",
         "Stadion da Luz"
        ],
        [
         " Group stage: Matchday 4 ",
         "11-10-2022",
         "FALSE",
         "FALSE",
         "FALSE",
         "AC Milan",
         "Chelsea",
         "0",
         "2",
         "29%",
         "71%",
         "7",
         "15",
         "1",
         "4",
         "45%",
         "55%",
         "46%",
         "6",
         "54%",
         "San Siro"
        ],
        [
         " Group stage: Matchday 4 ",
         "11-10-2022",
         "FALSE",
         "FALSE",
         "FALSE",
         "Dinamo Zagreb",
         "Salzburg",
         "1",
         "1",
         "57%",
         "43%",
         "14",
         "15",
         "3",
         "3",
         "41%",
         "59%",
         "48%",
         "4",
         "52%",
         "Maksimir"
        ],
        [
         " Group stage: Matchday 4 ",
         "11-10-2022",
         "FALSE",
         "FALSE",
         "FALSE",
         "Celtic",
         "RB Leipzig",
         "0",
         "2",
         "41%",
         "59%",
         "16",
         "13",
         "2",
         "5",
         "48%",
         "52%",
         "35%",
         "7",
         "65%",
         "Celtic Park"
        ],
        [
         " Group stage: Matchday 4 ",
         "11-10-2022",
         "FALSE",
         "FALSE",
         "FALSE",
         "Shakhtar Donetsk",
         "Real Madrid",
         "1",
         "1",
         "41%",
         "59%",
         "11",
         "17",
         "2",
         "5",
         "50%",
         "50%",
         "35%",
         "9",
         "65%",
         "Donbass Arena"
        ],
        [
         " Group stage: Matchday 4 ",
         "11-10-2022",
         "FALSE",
         "FALSE",
         "FALSE",
         "K�benhavn",
         "Manchester City",
         "0",
         "0",
         "41%",
         "59%",
         "6",
         "14",
         "1",
         "4",
         "36%",
         "64%",
         "35%",
         "4",
         "65%",
         "Parken Stadium"
        ],
        [
         " Group stage: Matchday 4 ",
         "11-10-2022",
         "FALSE",
         "FALSE",
         "FALSE",
         "Borussia Dortmund",
         "Sevilla",
         "1",
         "1",
         "52%",
         "48%",
         "7",
         "9",
         "3",
         "2",
         "39%",
         "61%",
         "41%",
         "4",
         "59%",
         "Signal Iduna Park"
        ],
        [
         " Group stage: Matchday 4 ",
         "11-10-2022",
         "FALSE",
         "FALSE",
         "FALSE",
         "Maccabi Haifa",
         "Juventus",
         "2",
         "0",
         "42%",
         "58%",
         "14",
         "10",
         "4",
         "5",
         "49%",
         "51%",
         "42%",
         "6",
         "58%",
         "Sammy Ofer"
        ],
        [
         " Group stage: Matchday 4 ",
         "11-10-2022",
         "FALSE",
         "FALSE",
         "FALSE",
         "Paris Saint-Germain",
         "Benfica",
         "1",
         "1",
         "62%",
         "38%",
         "7",
         "7",
         "3",
         "1",
         "42%",
         "58%",
         "49%",
         "3",
         "51%",
         "Parc des Princes"
        ],
        [
         " Group stage: Matchday 4 ",
         "12-10-2022",
         "FALSE",
         "FALSE",
         "FALSE",
         "Napoli",
         "Ajax",
         "4",
         "2",
         "45%",
         "55%",
         "13",
         "13",
         "5",
         "3",
         "49%",
         "51%",
         "36%",
         "9",
         "64%",
         "San Paolo"
        ],
        [
         " Group stage: Matchday 4 ",
         "12-10-2022",
         "FALSE",
         "FALSE",
         "FALSE",
         "Rangers",
         "Liverpool",
         "1",
         "7",
         "43%",
         "57%",
         "7",
         "20",
         "2",
         "9",
         "48%",
         "52%",
         "40%",
         "4",
         "60%",
         "Ibrox Stadium"
        ],
        [
         " Group stage: Matchday 4 ",
         "12-10-2022",
         "FALSE",
         "FALSE",
         "FALSE",
         "Atletico Madrid",
         "Club Brugge",
         "0",
         "0",
         "66%",
         "34%",
         "21",
         "5",
         "9",
         "1",
         "49%",
         "51%",
         "50%",
         "8",
         "50%",
         "Vicente Calderon"
        ],
        [
         " Group stage: Matchday 4 ",
         "12-10-2022",
         "FALSE",
         "FALSE",
         "FALSE",
         "Bayer Leverkusen",
         "Porto",
         "0",
         "3",
         "65%",
         "35%",
         "17",
         "5",
         "4",
         "3",
         "46%",
         "54%",
         "40%",
         "9",
         "60%",
         "BayArena"
        ],
        [
         " Group stage: Matchday 4 ",
         "12-10-2022",
         "FALSE",
         "FALSE",
         "FALSE",
         "Viktoria Plze?",
         "Bayern Munich",
         "2",
         "4",
         "31%",
         "69%",
         "15",
         "15",
         "6",
         "8",
         "46%",
         "54%",
         "42%",
         "4",
         "58%",
         "Doosan Arena"
        ],
        [
         " Group stage: Matchday 4 ",
         "12-10-2022",
         "FALSE",
         "FALSE",
         "FALSE",
         "Barcelona",
         "Internazionale",
         "3",
         "3",
         "62%",
         "38%",
         "25",
         "11",
         "11",
         "8",
         "38%",
         "62%",
         "37%",
         "5",
         "63%",
         "Nou Camp"
        ],
        [
         " Group stage: Matchday 4 ",
         "12-10-2022",
         "FALSE",
         "FALSE",
         "FALSE",
         "Tottenham Hotspur",
         "Eintracht Frankfurt",
         "3",
         "2",
         "52%",
         "48%",
         "11",
         "11",
         "8",
         "6",
         "48%",
         "52%",
         "41%",
         "1",
         "59%",
         "Tottenham Hotspur Stadium"
        ],
        [
         " Group stage: Matchday 4 ",
         "12-10-2022",
         "FALSE",
         "FALSE",
         "FALSE",
         "Sporting CP",
         "Marseille",
         "0",
         "2",
         "31%",
         "59%",
         "4",
         "16",
         "2",
         "5",
         "47%",
         "53%",
         "47%",
         "9",
         "53%",
         "Jos� Alvalade"
        ],
        [
         " Group stage: Matchday 5 ",
         "25-10-2022",
         "FALSE",
         "FALSE",
         "FALSE",
         "Salzburg",
         "Chelsea",
         "1",
         "2",
         "29%",
         "71%",
         "16",
         "15",
         "7",
         "11",
         "43%",
         "57%",
         "47%",
         "6",
         "53%",
         "Red Bull Arena"
        ],
        [
         " Group stage: Matchday 5 ",
         "25-10-2022",
         "FALSE",
         "FALSE",
         "FALSE",
         "Dinamo Zagreb",
         "AC Milan",
         "0",
         "4",
         "56%",
         "44%",
         "11",
         "22",
         "6",
         "10",
         "50%",
         "50%",
         "40%",
         "4",
         "60%",
         "Maksimir"
        ],
        [
         " Group stage: Matchday 5 ",
         "25-10-2022",
         "FALSE",
         "FALSE",
         "FALSE",
         "Celtic",
         "Shakhtar Donetsk",
         "1",
         "1",
         "55%",
         "45%",
         "15",
         "8",
         "5",
         "3",
         "46%",
         "54%",
         "46%",
         "10",
         "54%",
         "Celtic Park"
        ],
        [
         " Group stage: Matchday 5 ",
         "25-10-2022",
         "FALSE",
         "FALSE",
         "FALSE",
         "RB Leipzig",
         "Real Madrid",
         "3",
         "2",
         "43%",
         "57%",
         "14",
         "12",
         "6",
         "6",
         "42%",
         "58%",
         "47%",
         "2",
         "53%",
         "Red Bull Arena"
        ],
        [
         " Group stage: Matchday 5 ",
         "25-10-2022",
         "FALSE",
         "FALSE",
         "FALSE",
         "Sevilla",
         "K�benhavn",
         "3",
         "0",
         "58%",
         "42%",
         "15",
         "10",
         "11",
         "2",
         "37%",
         "63%",
         "41%",
         "2",
         "59%",
         "Ram�n S�nchez Pizju�n"
        ],
        [
         " Group stage: Matchday 5 ",
         "25-10-2022",
         "FALSE",
         "FALSE",
         "FALSE",
         "Borussia Dortmund",
         "Manchester City",
         "0",
         "0",
         "27%",
         "73%",
         "11",
         "8",
         "4",
         "3",
         "44%",
         "56%",
         "37%",
         "10",
         "63%",
         "Signal Iduna Park"
        ],
        [
         " Group stage: Matchday 5 ",
         "25-10-2022",
         "FALSE",
         "FALSE",
         "FALSE",
         "Benfica",
         "Juventus",
         "4",
         "3",
         "55%",
         "45%",
         "15",
         "13",
         "6",
         "6",
         "38%",
         "62%",
         "42%",
         "4",
         "58%",
         "Stadion da Luz"
        ],
        [
         " Group stage: Matchday 5 ",
         "25-10-2022",
         "FALSE",
         "FALSE",
         "FALSE",
         "Paris Saint-Germain",
         "Maccabi Haifa",
         "7",
         "2",
         "63%",
         "37%",
         "21",
         "13",
         "9",
         "5",
         "43%",
         "57%",
         "50%",
         "5",
         "50%",
         "Parc des Princes"
        ],
        [
         " Group stage: Matchday 5 ",
         "26-10-2022",
         "FALSE",
         "FALSE",
         "FALSE",
         "Ajax",
         "Liverpool",
         "0",
         "3",
         "49%",
         "51%",
         "11",
         "13",
         "2",
         "5",
         "35%",
         "65%",
         "43%",
         "5",
         "57%",
         "Amsterdam Arena"
        ],
        [
         " Group stage: Matchday 5 ",
         "26-10-2022",
         "FALSE",
         "FALSE",
         "FALSE",
         "Napoli",
         "Rangers",
         "3",
         "0",
         "65%",
         "35%",
         "14",
         "9",
         "6",
         "1",
         "42%",
         "58%",
         "44%",
         "2",
         "56%",
         "San Paolo"
        ],
        [
         " Group stage: Matchday 5 ",
         "26-10-2022",
         "FALSE",
         "FALSE",
         "FALSE",
         "Club Brugge",
         "Porto",
         "0",
         "4",
         "57%",
         "43%",
         "10",
         "18",
         "4",
         "9",
         "47%",
         "53%",
         "38%",
         "8",
         "62%",
         "Jan Breydel"
        ],
        [
         " Group stage: Matchday 5 ",
         "26-10-2022",
         "FALSE",
         "FALSE",
         "FALSE",
         "Atletico Madrid",
         "Bayer Leverkusen",
         "2",
         "2",
         "64%",
         "36%",
         "23",
         "13",
         "10",
         "7",
         "43%",
         "57%",
         "44%",
         "4",
         "56%",
         "Vicente Calderon"
        ],
        [
         " Group stage: Matchday 5 ",
         "26-10-2022",
         "FALSE",
         "FALSE",
         "FALSE",
         "Internazionale",
         "Viktoria Plze?",
         "4",
         "0",
         "64%",
         "36%",
         "22",
         "5",
         "9",
         "1",
         "37%",
         "63%",
         "48%",
         "9",
         "52%",
         "San Siro"
        ],
        [
         " Group stage: Matchday 5 ",
         "26-10-2022",
         "FALSE",
         "FALSE",
         "FALSE",
         "Barcelona",
         "Bayern Munich",
         "0",
         "3",
         "52%",
         "48%",
         "9",
         "14",
         "0",
         "8",
         "38%",
         "62%",
         "39%",
         "4",
         "61%",
         "Nou Camp"
        ],
        [
         " Group stage: Matchday 5 ",
         "26-10-2022",
         "FALSE",
         "FALSE",
         "FALSE",
         "Eintracht Frankfurt",
         "Marseille",
         "2",
         "1",
         "43%",
         "57%",
         "9",
         "11",
         "4",
         "3",
         "40%",
         "60%",
         "36%",
         "1",
         "64%",
         "Eintracht-Stadion"
        ],
        [
         " Group stage: Matchday 5 ",
         "26-10-2022",
         "FALSE",
         "FALSE",
         "FALSE",
         "Tottenham Hotspur",
         "Sporting CP",
         "1",
         "1",
         "59%",
         "41%",
         "18",
         "10",
         "7",
         "4",
         "35%",
         "65%",
         "47%",
         "10",
         "53%",
         "Tottenham Hotspur Stadium"
        ],
        [
         " Group stage: Matchday 6 ",
         "1-11-2022",
         "FALSE",
         "FALSE",
         "FALSE",
         "Rangers",
         "Ajax",
         "1",
         "3",
         "45%",
         "55%",
         "8",
         "13",
         "3",
         "7",
         "39%",
         "61%",
         "40%",
         "10",
         "60%",
         "Ibrox Stadium"
        ],
        [
         " Group stage: Matchday 6 ",
         "1-11-2022",
         "FALSE",
         "FALSE",
         "FALSE",
         "Liverpool",
         "Napoli",
         "2",
         "0",
         "53%",
         "47%",
         "14",
         "10",
         "6",
         "2",
         "41%",
         "59%",
         "39%",
         "7",
         "61%",
         "Anfield"
        ],
        [
         " Group stage: Matchday 6 ",
         "1-11-2022",
         "FALSE",
         "FALSE",
         "FALSE",
         "Porto",
         "Atletico Madrid",
         "2",
         "1",
         "51%",
         "49%",
         "16",
         "11",
         "8",
         "5",
         "41%",
         "59%",
         "44%",
         "1",
         "56%",
         "Est�dio do Drag�o"
        ],
        [
         " Group stage: Matchday 6 ",
         "1-11-2022",
         "FALSE",
         "FALSE",
         "FALSE",
         "Bayer Leverkusen",
         "Club Brugge",
         "0",
         "0",
         "54%",
         "46%",
         "13",
         "8",
         "4",
         "1",
         "38%",
         "62%",
         "36%",
         "8",
         "64%",
         "BayArena"
        ],
        [
         " Group stage: Matchday 6 ",
         "1-11-2022",
         "FALSE",
         "FALSE",
         "FALSE",
         "Bayern Munich",
         "Internazionale",
         "2",
         "0",
         "60%",
         "40%",
         "23",
         "7",
         "8",
         "4",
         "48%",
         "52%",
         "43%",
         "1",
         "57%",
         "Allianz Arena"
        ],
        [
         " Group stage: Matchday 6 ",
         "1-11-2022",
         "FALSE",
         "FALSE",
         "FALSE",
         "Viktoria Plze?",
         "Barcelona",
         "2",
         "4",
         "23%",
         "77%",
         "22",
         "11",
         "8",
         "7",
         "46%",
         "54%",
         "49%",
         "1",
         "51%",
         "Doosan Arena"
        ],
        [
         " Group stage: Matchday 6 ",
         "1-11-2022",
         "FALSE",
         "FALSE",
         "FALSE",
         "Sporting CP",
         "Eintracht Frankfurt",
         "1",
         "2",
         "45%",
         "55%",
         "5",
         "6",
         "2",
         "4",
         "43%",
         "57%",
         "48%",
         "1",
         "52%",
         "Jos� Alvalade"
        ],
        [
         " Group stage: Matchday 6 ",
         "1-11-2022",
         "FALSE",
         "FALSE",
         "FALSE",
         "Marseille",
         "Tottenham Hotspur",
         "1",
         "2",
         "64%",
         "36%",
         "16",
         "7",
         "4",
         "3",
         "36%",
         "64%",
         "42%",
         "4",
         "58%",
         "V�lodrome"
        ],
        [
         " Group stage: Matchday 6 ",
         "2-11-2022",
         "FALSE",
         "FALSE",
         "FALSE",
         "AC Milan",
         "Salzburg",
         "4",
         "0",
         "48%",
         "52%",
         "15",
         "16",
         "7",
         "6",
         "47%",
         "53%",
         "37%",
         "1",
         "63%",
         "San Siro"
        ],
        [
         " Group stage: Matchday 6 ",
         "2-11-2022",
         "FALSE",
         "FALSE",
         "FALSE",
         "Chelsea",
         "Dinamo Zagreb",
         "2",
         "1",
         "59%",
         "41%",
         "22",
         "7",
         "6",
         "2",
         "45%",
         "55%",
         "39%",
         "5",
         "61%",
         "Stamford Bridge"
        ],
        [
         "Group stage: Matchday 6 ",
         "2-11-2022",
         "FALSE",
         "FALSE",
         "FALSE",
         "Real Madrid",
         "Celtic",
         "5",
         "1",
         "65%",
         "35%",
         "25",
         "14",
         "10",
         "8",
         "45%",
         "55%",
         "44%",
         "7",
         "56%",
         "Santiago Bernabeu"
        ],
        [
         "Group stage: Matchday 6 ",
         "2-11-2022",
         "FALSE",
         "FALSE",
         "FALSE",
         "Shakhtar Donetsk",
         "RB Leipzig",
         "0",
         "4",
         "48%",
         "52%",
         "5",
         "12",
         "1",
         "7",
         "39%",
         "61%",
         "40%",
         "6",
         "60%",
         "Donbass Arena"
        ],
        [
         "Group stage: Matchday 6 ",
         "2-11-2022",
         "FALSE",
         "FALSE",
         "FALSE",
         "K�benhavn",
         "Borussia Dortmund",
         "1",
         "1",
         "42%",
         "58%",
         "22",
         "13",
         "9",
         "1",
         "37%",
         "63%",
         "46%",
         "2",
         "54%",
         "Parken Stadium"
        ],
        [
         "Group stage: Matchday 6 ",
         "2-11-2022",
         "FALSE",
         "FALSE",
         "FALSE",
         "Manchester City",
         "Sevilla",
         "3",
         "1",
         "62%",
         "38%",
         "21",
         "7",
         "7",
         "2",
         "49%",
         "51%",
         "47%",
         "4",
         "53%",
         "Etihad"
        ],
        [
         "Group stage: Matchday 6 ",
         "2-11-2022",
         "FALSE",
         "FALSE",
         "FALSE",
         "Juventus",
         "Paris Saint-Germain",
         "1",
         "2",
         "47%",
         "53%",
         "15",
         "7",
         "2",
         "5",
         "47%",
         "53%",
         "40%",
         "6",
         "60%",
         "Allianz Stadium"
        ],
        [
         "Group stage: Matchday 6 ",
         "2-11-2022",
         "FALSE",
         "FALSE",
         "FALSE",
         "Maccabi Haifa",
         "Benfica",
         "1",
         "6",
         "42%",
         "58%",
         "10",
         "17",
         "2",
         "10",
         "38%",
         "62%",
         "39%",
         "7",
         "61%",
         "Sammy Ofer"
        ],
        [
         " Round of 16 first leg ",
         "16-02-2023",
         "FALSE",
         "FALSE",
         "FALSE",
         "Dortmund",
         "Chelsea",
         "1",
         "0",
         "51%",
         "49%",
         "14",
         "21",
         "2",
         "8",
         "45%",
         "55%",
         "45%",
         "8",
         "55%",
         "Signal Iduna Park"
        ],
        [
         " Round of 16 first leg ",
         "16-02-2023",
         "FALSE",
         "FALSE",
         "FALSE",
         "Club Brugge",
         "Benfica",
         "0",
         "2",
         "45%",
         "55%",
         "4",
         "14",
         "1",
         "4",
         "45%",
         "55%",
         "39%",
         "4",
         "61%",
         "Jan Breydel"
        ],
        [
         " Round of 16 first leg ",
         "15-02-2023",
         "FALSE",
         "FALSE",
         "FALSE",
         "Paris Saint-Germain",
         "Bayern Munich",
         "0",
         "1",
         "46%",
         "54%",
         "9",
         "18",
         "4",
         "7",
         "37%",
         "63%",
         "45%",
         "8",
         "55%",
         "Parc des Princes"
        ],
        [
         " Round of 16 first leg ",
         "15-02-2023",
         "FALSE",
         "FALSE",
         "FALSE",
         "Milan",
         "Tottenham",
         "1",
         "0",
         "47%",
         "53%",
         "9",
         "11",
         "4",
         "3",
         "38%",
         "62%",
         "49%",
         "2",
         "51%",
         "San Siro"
        ],
        [
         " Round of 16 first leg ",
         "23-02-2023",
         "FALSE",
         "FALSE",
         "FALSE",
         "Inter",
         "FC Porto",
         "1",
         "0",
         "60%",
         "40%",
         "18",
         "10",
         "4",
         "4",
         "44%",
         "56%",
         "40%",
         "3",
         "60%",
         "San Siro"
        ],
        [
         " Round of 16 first leg ",
         "23-02-2023",
         "FALSE",
         "FALSE",
         "FALSE",
         "Leipzig",
         "Manchester City",
         "1",
         "1",
         "38%",
         "62%",
         "7",
         "12",
         "4",
         "3",
         "42%",
         "58%",
         "41%",
         "4",
         "59%",
         "Red Bull Arena"
        ],
        [
         " Round of 16 first leg ",
         "22-02-2023",
         "FALSE",
         "FALSE",
         "FALSE",
         "Eintracht Frankfurt",
         "Napoli",
         "0",
         "2",
         "30%",
         "70%",
         "5",
         "18",
         "1",
         "10",
         "35%",
         "65%",
         "46%",
         "5",
         "54%",
         "Frankfurt Stadion"
        ],
        [
         " Round of 16 first leg ",
         "22-02-2023",
         "FALSE",
         "FALSE",
         "FALSE",
         "Liverpool",
         "Real Madrid\n",
         null,
         null,
         null,
         null,
         null,
         null,
         null,
         null,
         null,
         null,
         null,
         null,
         null,
         null
        ],
        [
         ",2,5,52%,48%,9,9,5,6,45%,55%,46%,,54%,Anfield\n",
         null,
         null,
         null,
         null,
         null,
         null,
         null,
         null,
         null,
         null,
         null,
         null,
         null,
         null,
         null,
         null,
         null,
         null,
         null,
         null
        ],
        [
         " Round of 16 second leg ",
         "09-03-2023",
         "FALSE",
         "FALSE",
         "FALSE",
         "Tottenham",
         "Milan",
         "0",
         "0",
         "54%",
         "46%",
         "9",
         "14",
         "2",
         "3",
         "38%",
         "62%",
         "47%",
         "1",
         "53%",
         "Tottenham Hotspur Stadium"
        ],
        [
         " Round of 16 second leg ",
         "09-03-2023",
         "FALSE",
         "FALSE",
         "FALSE",
         "Bayern Munich",
         "Paris Saint-Germain",
         "2",
         "0",
         "45%",
         "55%",
         "12",
         "10",
         "5",
         "4",
         "36%",
         "64%",
         "41%",
         "7",
         "59%",
         "Allianz Arena"
        ],
        [
         " Round of 16 second leg ",
         "08-03-2023",
         "FALSE",
         "FALSE",
         "FALSE",
         "Chelsea",
         "Dortmund",
         "2",
         "0",
         "39%",
         "61%",
         "13",
         "13",
         "4",
         "4",
         "47%",
         "53%",
         "36%",
         "2",
         "64%",
         "Stamford Bridge"
        ],
        [
         " Round of 16 second leg ",
         "08-03-2023",
         "FALSE",
         "FALSE",
         "FALSE",
         "Benfica",
         "Club Brugge",
         "5",
         "1",
         "60%",
         "40%",
         "20",
         "13",
         "8",
         "2",
         "50%",
         "50%",
         "37%",
         "4",
         "63%",
         "Stadion da Luz"
        ],
        [
         " Round of 16 second leg ",
         "16-03-2023",
         "FALSE",
         "FALSE",
         "FALSE",
         "Napoli",
         "Eintracht Frankfurt",
         "3",
         "0",
         "60%",
         "40%",
         "12",
         "8",
         "8",
         "1",
         "43%",
         "57%",
         "36%",
         "9",
         "64%",
         "Stadio Diego Armando Maradona"
        ],
        [
         " Round of 16 second leg ",
         "16-03-2023",
         "FALSE",
         "FALSE",
         "FALSE",
         "Real Madrid",
         "Liverpool",
         "1",
         "0",
         "54%",
         "46%",
         "17",
         "9",
         "8",
         "5",
         "42%",
         "58%",
         "37%",
         "3",
         "63%",
         "Santiago Bernabeu"
        ],
        [
         " Round of 16 second leg ",
         "15-03-2023",
         "FALSE",
         "FALSE",
         "FALSE",
         "FC Porto",
         "Inter",
         "0",
         "0",
         "68%",
         "32%",
         "21",
         "11",
         "7",
         "5",
         "35%",
         "65%",
         "48%",
         "5",
         "52%",
         "Est�dio do Drag�o"
        ],
        [
         " Round of 16 second leg ",
         "15-03-2023",
         "FALSE",
         "FALSE",
         "FALSE",
         "Manchester City",
         "Leipzig",
         "7",
         "0",
         "67%",
         "33%",
         "23",
         "4",
         "16",
         "1",
         "39%",
         "61%",
         "37%",
         "6",
         "63%",
         "Etihad"
        ],
        [
         " Quarter-finals first leg ",
         "13-04-2023",
         "FALSE",
         "FALSE",
         "FALSE",
         "Milan",
         "Napoli",
         "1",
         "0",
         "46%",
         "54%",
         "12",
         "16",
         "2",
         "6",
         "48%",
         "52%",
         "46%",
         "2",
         "54%",
         "San Siro"
        ],
        [
         " Quarter-finals first leg ",
         "13-04-2023",
         "FALSE",
         "FALSE",
         "FALSE",
         "Real Madrid",
         "Chelsea",
         "2",
         "0",
         "57%",
         "43%",
         "18",
         "7",
         "10",
         "3",
         "39%",
         "61%",
         "37%",
         "8",
         "63%",
         "Santiago Bernabeu"
        ],
        [
         " Quarter-finals first leg ",
         "12-04-2023",
         "FALSE",
         "FALSE",
         "FALSE",
         "Manchester City",
         "Bayern Munich",
         "3",
         "0",
         "44%",
         "56%",
         "17",
         "12",
         "9",
         "4",
         "50%",
         "50%",
         "40%",
         "6",
         "60%",
         "Etihad"
        ],
        [
         " Quarter-finals first leg ",
         "12-04-2023",
         "FALSE",
         "FALSE",
         "FALSE",
         "Benfica",
         "Inter",
         "0",
         "2",
         "58%",
         "42%",
         "12",
         "9",
         "2",
         "4",
         "40%",
         "60%",
         "39%",
         "7",
         "61%",
         "Stadion da Luz"
        ],
        [
         " Quarter-finals second leg ",
         "20-04-2023",
         "FALSE",
         "FALSE",
         "FALSE",
         "Inter",
         "Benfica",
         "3",
         "3",
         "40%",
         "60%",
         "11",
         "12",
         "3",
         "5",
         "43%",
         "57%",
         "44%",
         "9",
         "56%",
         "San Siro"
        ],
        [
         " Quarter-finals second leg ",
         "20-04-2023",
         "FALSE",
         "FALSE",
         "FALSE",
         "Bayern Munich",
         "Manchester City",
         "1",
         "1",
         "58%",
         "42%",
         "19",
         "7",
         "7",
         "2",
         "36%",
         "64%",
         "44%",
         "1",
         "56%",
         "Allianz Arena"
        ],
        [
         " Quarter-finals second leg ",
         "19-04-2023",
         "FALSE",
         "FALSE",
         "FALSE",
         "Chelsea",
         "Real Madrid",
         "0",
         "2",
         "55%",
         "45%",
         "19",
         "9",
         "6",
         "6",
         "38%",
         "62%",
         "43%",
         "2",
         "57%",
         "Stamford Bridge"
        ],
        [
         " Quarter-finals second leg ",
         "19-04-2023",
         "FALSE",
         "FALSE",
         "FALSE",
         "Napoli",
         "Milan",
         "1",
         "1",
         "74%",
         "26%",
         "23",
         "6",
         "4",
         "4",
         "46%",
         "54%",
         "38%",
         "4",
         "62%",
         "Stadio Diego Armando Maradona"
        ],
        [
         " Semi-finals first leg ",
         "11-05-2023",
         "FALSE",
         "FALSE",
         "FALSE",
         "Milan",
         "Inter",
         "0",
         "2",
         "58%",
         "42%",
         "13",
         "16",
         "2",
         "5",
         "45%",
         "55%",
         "50%",
         "5",
         "50%",
         "San Siro"
        ],
        [
         " Semi-finals first leg ",
         "10-05-2023",
         "FALSE",
         "FALSE",
         "FALSE",
         "Real Madrid",
         "Manchester City",
         "1",
         "1",
         "44%",
         "56%",
         "13",
         "10",
         "4",
         "6",
         "50%",
         "50%",
         "41%",
         "8",
         "59%",
         "Santiago Bernabeu"
        ],
        [
         " Semi-finals second leg ",
         "18-05-2023",
         "FALSE",
         "FALSE",
         "FALSE",
         "Manchester City",
         "Real Madrid",
         "4",
         "0",
         "60%",
         "40%",
         "16",
         "7",
         "8",
         "3",
         "41%",
         "59%",
         "46%",
         "6",
         "54%",
         "Etihad"
        ],
        [
         " Semi-finals second leg ",
         "17-05-2023",
         "FALSE",
         "FALSE",
         "FALSE",
         "Inter",
         "Milan",
         "1",
         "0",
         "43%",
         "57%",
         "15",
         "5",
         "4",
         "1",
         "45%",
         "55%",
         "44%",
         "5",
         "56%",
         "San Siro"
        ],
        [
         " Final ",
         "11-06-2023",
         "FALSE",
         "FALSE",
         "FALSE",
         "Manchester City",
         "Inter",
         "1",
         "0",
         "57%",
         "43%",
         "4",
         "6",
         "2",
         "1",
         "36%",
         "64%",
         "46%",
         "8",
         "54%",
         "Atat�rk Olympic Stadium="
        ]
       ],
       "datasetInfos": [],
       "dbfsResultPath": null,
       "isJsonSchema": true,
       "metadata": {},
       "overflow": false,
       "plotOptions": {
        "customPlotOptions": {},
        "displayType": "table",
        "pivotAggregation": null,
        "pivotColumns": null,
        "xColumns": null,
        "yColumns": null
       },
       "removedWidgets": [],
       "schema": [
        {
         "metadata": "{}",
         "name": "STAGE",
         "type": "\"string\""
        },
        {
         "metadata": "{}",
         "name": "DATE",
         "type": "\"string\""
        },
        {
         "metadata": "{}",
         "name": "PENS",
         "type": "\"string\""
        },
        {
         "metadata": "{}",
         "name": "PENS_HOME_SCORE",
         "type": "\"string\""
        },
        {
         "metadata": "{}",
         "name": "PENS_AWAY_SCORE",
         "type": "\"string\""
        },
        {
         "metadata": "{}",
         "name": "TEAM_NAME_HOME",
         "type": "\"string\""
        },
        {
         "metadata": "{}",
         "name": "TEAM_NAME_AWAY",
         "type": "\"string\""
        },
        {
         "metadata": "{}",
         "name": "TEAM_HOME_SCORE",
         "type": "\"string\""
        },
        {
         "metadata": "{}",
         "name": "TEAM_AWAY_SCORE",
         "type": "\"string\""
        },
        {
         "metadata": "{}",
         "name": "POSSESSION_HOME",
         "type": "\"string\""
        },
        {
         "metadata": "{}",
         "name": "POSSESSION_AWAY",
         "type": "\"string\""
        },
        {
         "metadata": "{}",
         "name": "TOTAL_SHOTS_HOME",
         "type": "\"string\""
        },
        {
         "metadata": "{}",
         "name": "TOTAL_SHOTS_AWAY",
         "type": "\"string\""
        },
        {
         "metadata": "{}",
         "name": "SHOTS_ON_TARGET_HOME",
         "type": "\"string\""
        },
        {
         "metadata": "{}",
         "name": "SHOTS_ON_TARGET_AWAY",
         "type": "\"string\""
        },
        {
         "metadata": "{}",
         "name": "DUELS_WON_HOME",
         "type": "\"string\""
        },
        {
         "metadata": "{}",
         "name": "DUELS_WON_AWAY",
         "type": "\"string\""
        },
        {
         "metadata": "{}",
         "name": "PREDICTION_TEAM_HOME_WIN",
         "type": "\"string\""
        },
        {
         "metadata": "{}",
         "name": "PREDICTION_DRAW",
         "type": "\"string\""
        },
        {
         "metadata": "{}",
         "name": "PREDICTION_TEAM_AWAY_WIN",
         "type": "\"string\""
        },
        {
         "metadata": "{}",
         "name": "LOCATION",
         "type": "\"string\""
        }
       ],
       "type": "table"
      }
     },
     "output_type": "display_data"
    }
   ],
   "source": [
    "df2 = spark.read.csv(\"/FileStore/caso_2/uefa_2022.csv\", header=True)\n",
    "\n",
    "df2.display()"
   ]
  },
  {
   "cell_type": "code",
   "execution_count": 0,
   "metadata": {
    "application/vnd.databricks.v1+cell": {
     "cellMetadata": {
      "byteLimit": 2048000,
      "rowLimit": 10000
     },
     "inputWidgets": {},
     "nuid": "0575a2b6-d88a-4d1c-a29a-d511610842bb",
     "showTitle": false,
     "tableResultSettingsMap": {},
     "title": ""
    }
   },
   "outputs": [],
   "source": [
    "#LIMPIEZA DE NULL\n",
    "\n",
    "df2 = df2.dropna(subset=[\"POSSESSION_HOME\", \"POSSESSION_AWAY\"])"
   ]
  },
  {
   "cell_type": "markdown",
   "metadata": {
    "application/vnd.databricks.v1+cell": {
     "cellMetadata": {},
     "inputWidgets": {},
     "nuid": "6ee2637e-260f-4cc8-b8e8-0a68471b4d24",
     "showTitle": false,
     "tableResultSettingsMap": {},
     "title": ""
    }
   },
   "source": [
    "\n",
    "\n",
    "\n",
    "Encuentra el equipo con posesión mayoritaria la mayor cantidad de veces durante la UEFA Champions League 2021-22. El resultado debe incluir dos columnas: TEAM_NAME y GAME_COUNT, que es la cantidad de veces que el equipo tuvo posesión mayoritaria durante un partido de fútbol. Guarda esta consulta (o el notebook) como TEAM_WITH_MAJORITY_POSSESSION"
   ]
  },
  {
   "cell_type": "code",
   "execution_count": 0,
   "metadata": {
    "application/vnd.databricks.v1+cell": {
     "cellMetadata": {
      "byteLimit": 2048000,
      "rowLimit": 10000
     },
     "inputWidgets": {},
     "nuid": "359a3e1f-b1b2-46fa-91c6-97066ee0cff4",
     "showTitle": false,
     "tableResultSettingsMap": {},
     "title": ""
    }
   },
   "outputs": [],
   "source": [
    "# union 2021- 2022\n",
    "\n",
    "df_combinado2 = df1.union(df2)"
   ]
  },
  {
   "cell_type": "code",
   "execution_count": 0,
   "metadata": {
    "application/vnd.databricks.v1+cell": {
     "cellMetadata": {
      "byteLimit": 2048000,
      "rowLimit": 10000
     },
     "inputWidgets": {},
     "nuid": "b7cfd6e5-1076-4733-8412-f04450afaf6a",
     "showTitle": false,
     "tableResultSettingsMap": {},
     "title": ""
    }
   },
   "outputs": [
    {
     "output_type": "display_data",
     "data": {
      "text/html": [
       "<style scoped>\n",
       "  .table-result-container {\n",
       "    max-height: 300px;\n",
       "    overflow: auto;\n",
       "  }\n",
       "  table, th, td {\n",
       "    border: 1px solid black;\n",
       "    border-collapse: collapse;\n",
       "  }\n",
       "  th, td {\n",
       "    padding: 5px;\n",
       "  }\n",
       "  th {\n",
       "    text-align: left;\n",
       "  }\n",
       "</style><div class='table-result-container'><table class='table-result'><thead style='background-color: white'><tr><th>POSSESSION_MAJORITARIA</th><th>GAME_COUNT</th></tr></thead><tbody><tr><td>Liverpool</td><td>15</td></tr><tr><td>Chelsea</td><td>13</td></tr><tr><td>Real Madrid</td><td>12</td></tr><tr><td>Manchester City</td><td>11</td></tr><tr><td>Ajax</td><td>9</td></tr><tr><td>Benfica</td><td>9</td></tr><tr><td>Barcelona</td><td>8</td></tr><tr><td>Man City</td><td>7</td></tr><tr><td>Bayern</td><td>7</td></tr><tr><td>Juventus</td><td>7</td></tr><tr><td>Paris Saint-Germain</td><td>7</td></tr><tr><td>Napoli</td><td>7</td></tr><tr><td>Bayern Munich</td><td>7</td></tr><tr><td>Marseille</td><td>6</td></tr><tr><td>Paris</td><td>5</td></tr><tr><td>Milan</td><td>5</td></tr><tr><td>Man United</td><td>5</td></tr><tr><td>Sevilla</td><td>5</td></tr><tr><td>Atletico Madrid</td><td>5</td></tr><tr><td>Wolfsburg</td><td>4</td></tr><tr><td>Sporting CP</td><td>4</td></tr><tr><td>FC Porto</td><td>4</td></tr><tr><td>Dortmund</td><td>4</td></tr><tr><td>RB Leipzig</td><td>4</td></tr><tr><td>Bayer Leverkusen</td><td>4</td></tr><tr><td>Shakhtar Donetsk</td><td>3</td></tr><tr><td>Villarreal</td><td>3</td></tr><tr><td>Inter</td><td>3</td></tr><tr><td>Club Brugge</td><td>3</td></tr><tr><td>Zenit</td><td>3</td></tr><tr><td>Young Boys</td><td>3</td></tr><tr><td>Atalanta</td><td>3</td></tr><tr><td>Leipzig</td><td>3</td></tr><tr><td>Tottenham Hotspur</td><td>3</td></tr><tr><td>Dinamo Zagreb</td><td>3</td></tr><tr><td>Borussia Dortmund</td><td>3</td></tr><tr><td>Salzburg</td><td>2</td></tr><tr><td>Besiktas</td><td>2</td></tr><tr><td>Lille</td><td>2</td></tr><tr><td>Sheriff</td><td>2</td></tr><tr><td>Atl�tico de Madrid</td><td>2</td></tr><tr><td>Man City </td><td>2</td></tr><tr><td>Tottenham</td><td>2</td></tr><tr><td>Celtic</td><td>2</td></tr><tr><td>Porto</td><td>2</td></tr><tr><td>Internazionale</td><td>2</td></tr><tr><td>AC Milan</td><td>2</td></tr><tr><td>Malmo</td><td>1</td></tr><tr><td>Benefics</td><td>1</td></tr><tr><td>Dynamo Hyiv</td><td>1</td></tr><tr><td>Benefica</td><td>1</td></tr><tr><td>Dynamo Kyiv</td><td>1</td></tr><tr><td>Shakhtar Dopetsk</td><td>1</td></tr><tr><td>Chelesa</td><td>1</td></tr><tr><td>Malo</td><td>1</td></tr><tr><td>PAris</td><td>1</td></tr><tr><td>Salzvurg</td><td>1</td></tr><tr><td>Eintracht Frankfurt</td><td>1</td></tr><tr><td>null</td><td>0</td></tr></tbody></table></div>"
      ]
     },
     "metadata": {
      "application/vnd.databricks.v1+output": {
       "addedWidgets": {},
       "aggData": [],
       "aggError": "",
       "aggOverflow": false,
       "aggSchema": [],
       "aggSeriesLimitReached": false,
       "aggType": "",
       "arguments": {},
       "columnCustomDisplayInfos": {},
       "data": [
        [
         "Liverpool",
         15
        ],
        [
         "Chelsea",
         13
        ],
        [
         "Real Madrid",
         12
        ],
        [
         "Manchester City",
         11
        ],
        [
         "Ajax",
         9
        ],
        [
         "Benfica",
         9
        ],
        [
         "Barcelona",
         8
        ],
        [
         "Man City",
         7
        ],
        [
         "Bayern",
         7
        ],
        [
         "Juventus",
         7
        ],
        [
         "Paris Saint-Germain",
         7
        ],
        [
         "Napoli",
         7
        ],
        [
         "Bayern Munich",
         7
        ],
        [
         "Marseille",
         6
        ],
        [
         "Paris",
         5
        ],
        [
         "Milan",
         5
        ],
        [
         "Man United",
         5
        ],
        [
         "Sevilla",
         5
        ],
        [
         "Atletico Madrid",
         5
        ],
        [
         "Wolfsburg",
         4
        ],
        [
         "Sporting CP",
         4
        ],
        [
         "FC Porto",
         4
        ],
        [
         "Dortmund",
         4
        ],
        [
         "RB Leipzig",
         4
        ],
        [
         "Bayer Leverkusen",
         4
        ],
        [
         "Shakhtar Donetsk",
         3
        ],
        [
         "Villarreal",
         3
        ],
        [
         "Inter",
         3
        ],
        [
         "Club Brugge",
         3
        ],
        [
         "Zenit",
         3
        ],
        [
         "Young Boys",
         3
        ],
        [
         "Atalanta",
         3
        ],
        [
         "Leipzig",
         3
        ],
        [
         "Tottenham Hotspur",
         3
        ],
        [
         "Dinamo Zagreb",
         3
        ],
        [
         "Borussia Dortmund",
         3
        ],
        [
         "Salzburg",
         2
        ],
        [
         "Besiktas",
         2
        ],
        [
         "Lille",
         2
        ],
        [
         "Sheriff",
         2
        ],
        [
         "Atl�tico de Madrid",
         2
        ],
        [
         "Man City ",
         2
        ],
        [
         "Tottenham",
         2
        ],
        [
         "Celtic",
         2
        ],
        [
         "Porto",
         2
        ],
        [
         "Internazionale",
         2
        ],
        [
         "AC Milan",
         2
        ],
        [
         "Malmo",
         1
        ],
        [
         "Benefics",
         1
        ],
        [
         "Dynamo Hyiv",
         1
        ],
        [
         "Benefica",
         1
        ],
        [
         "Dynamo Kyiv",
         1
        ],
        [
         "Shakhtar Dopetsk",
         1
        ],
        [
         "Chelesa",
         1
        ],
        [
         "Malo",
         1
        ],
        [
         "PAris",
         1
        ],
        [
         "Salzvurg",
         1
        ],
        [
         "Eintracht Frankfurt",
         1
        ],
        [
         null,
         0
        ]
       ],
       "datasetInfos": [],
       "dbfsResultPath": null,
       "isJsonSchema": true,
       "metadata": {},
       "overflow": false,
       "plotOptions": {
        "customPlotOptions": {},
        "displayType": "table",
        "pivotAggregation": null,
        "pivotColumns": null,
        "xColumns": null,
        "yColumns": null
       },
       "removedWidgets": [],
       "schema": [
        {
         "metadata": "{}",
         "name": "POSSESSION_MAJORITARIA",
         "type": "\"string\""
        },
        {
         "metadata": "{}",
         "name": "GAME_COUNT",
         "type": "\"long\""
        }
       ],
       "type": "table"
      }
     },
     "output_type": "display_data"
    }
   ],
   "source": [
    "from pyspark.sql.functions import col, when, count\n",
    "\n",
    "df_combinado2 = df_combinado2.withColumn(\"POSSESSION_MAJORITARIA\",\n",
    "    when(col(\"POSSESSION_HOME\") > col(\"POSSESSION_AWAY\"), col(\"TEAM_NAME_HOME\"))\n",
    "    .when(col(\"POSSESSION_HOME\") < col(\"POSSESSION_AWAY\"), col(\"TEAM_NAME_AWAY\"))\n",
    "    .otherwise(None)  # Si las posesiones son iguales, no se cuenta como posesión mayoritaria\n",
    ")\n",
    "\n",
    "df_combinado2 = df_combinado2.groupBy(\"POSSESSION_MAJORITARIA\").agg(count(\"POSSESSION_MAJORITARIA\").alias(\"GAME_COUNT\")).orderBy(col(\"GAME_COUNT\").desc())\n",
    "\n",
    "\n",
    "df_combinado2.display()"
   ]
  },
  {
   "cell_type": "code",
   "execution_count": 0,
   "metadata": {
    "application/vnd.databricks.v1+cell": {
     "cellMetadata": {
      "byteLimit": 2048000,
      "rowLimit": 10000
     },
     "inputWidgets": {},
     "nuid": "a9f89c62-f865-4fb8-b427-8dcbe39f0f8f",
     "showTitle": false,
     "tableResultSettingsMap": {},
     "title": ""
    }
   },
   "outputs": [],
   "source": [
    "df_combinado2.write.csv(\"/FileStore/caso_2/TEAM_WITH_MAJORITY_POSSESSION.csv\", header=True)"
   ]
  },
  {
   "cell_type": "markdown",
   "metadata": {
    "application/vnd.databricks.v1+cell": {
     "cellMetadata": {},
     "inputWidgets": {},
     "nuid": "96e5f4cf-d795-4569-bd0a-b63c6cc41d4a",
     "showTitle": false,
     "tableResultSettingsMap": {},
     "title": ""
    }
   },
   "source": [
    "Encuentra la lista de equipos de cada fase del juego que ganaron el duelo en un partido pero terminaron perdiendo el juego en el Campeonato de la UEFA 2022-23. El resultado debe contener dos columnas: STAGE y TEAM_LOST. Guarda la consulta (o el notebook) como TEAM_WON_DUEL_LOST_GAME_STAGE_WISE."
   ]
  },
  {
   "cell_type": "markdown",
   "metadata": {
    "application/vnd.databricks.v1+cell": {
     "cellMetadata": {},
     "inputWidgets": {},
     "nuid": "a3238f23-401d-4792-b064-eaf8c225119e",
     "showTitle": false,
     "tableResultSettingsMap": {},
     "title": ""
    }
   },
   "source": [
    "si yo juego en casa y gano en duelo pero pierdo tengo que usar mi puntos sean menos \n"
   ]
  },
  {
   "cell_type": "code",
   "execution_count": 0,
   "metadata": {
    "application/vnd.databricks.v1+cell": {
     "cellMetadata": {
      "byteLimit": 2048000,
      "rowLimit": 10000
     },
     "inputWidgets": {},
     "nuid": "7606d6cf-c9fb-48ac-a150-dbcb7ed2261d",
     "showTitle": false,
     "tableResultSettingsMap": {},
     "title": ""
    }
   },
   "outputs": [
    {
     "output_type": "display_data",
     "data": {
      "text/html": [
       "<style scoped>\n",
       "  .table-result-container {\n",
       "    max-height: 300px;\n",
       "    overflow: auto;\n",
       "  }\n",
       "  table, th, td {\n",
       "    border: 1px solid black;\n",
       "    border-collapse: collapse;\n",
       "  }\n",
       "  th, td {\n",
       "    padding: 5px;\n",
       "  }\n",
       "  th {\n",
       "    text-align: left;\n",
       "  }\n",
       "</style><div class='table-result-container'><table class='table-result'><thead style='background-color: white'><tr><th>STAGE</th><th>TEAM_LOST</th></tr></thead><tbody><tr><td> Group stage: Matchday 1 </td><td>Chelsea</td></tr><tr><td> Group stage: Matchday 1 </td><td>K�benhavn</td></tr><tr><td> Group stage: Matchday 1 </td><td>Juventus</td></tr><tr><td> Group stage: Matchday 1 </td><td>Maccabi Haifa</td></tr><tr><td> Group stage: Matchday 1 </td><td>Rangers</td></tr><tr><td> Group stage: Matchday 1 </td><td>Liverpool</td></tr><tr><td> Group stage: Matchday 1 </td><td>Porto</td></tr><tr><td> Group stage: Matchday 1 </td><td>Bayer Leverkusen</td></tr><tr><td> Group stage: Matchday 1 </td><td>Viktoria Plze?</td></tr><tr><td> Group stage: Matchday 1 </td><td>Marseille</td></tr><tr><td> Group stage: Matchday 2 </td><td>Ajax</td></tr><tr><td> Group stage: Matchday 2 </td><td>Atletico Madrid</td></tr><tr><td> Group stage: Matchday 2 </td><td>Barcelona</td></tr><tr><td> Group stage: Matchday 2 </td><td>Tottenham Hotspur</td></tr><tr><td> Group stage: Matchday 2 </td><td>RB Leipzig</td></tr><tr><td> Group stage: Matchday 3 </td><td>Rangers</td></tr><tr><td> Group stage: Matchday 3 </td><td>Atletico Madrid</td></tr><tr><td> Group stage: Matchday 3 </td><td>Bayer Leverkusen</td></tr><tr><td> Group stage: Matchday 3 </td><td>Viktoria Plze?</td></tr><tr><td> Group stage: Matchday 3 </td><td>Barcelona</td></tr><tr><td> Group stage: Matchday 3 </td><td>Sporting CP</td></tr><tr><td> Group stage: Matchday 3 </td><td>Dinamo Zagreb</td></tr><tr><td> Group stage: Matchday 3 </td><td>AC Milan</td></tr><tr><td> Group stage: Matchday 3 </td><td>Celtic</td></tr><tr><td> Group stage: Matchday 3 </td><td>K�benhavn</td></tr><tr><td> Group stage: Matchday 3 </td><td>Maccabi Haifa</td></tr><tr><td> Group stage: Matchday 4 </td><td>Juventus</td></tr><tr><td> Group stage: Matchday 4 </td><td>Ajax</td></tr><tr><td> Group stage: Matchday 4 </td><td>Eintracht Frankfurt</td></tr><tr><td> Group stage: Matchday 5 </td><td>Real Madrid</td></tr><tr><td> Group stage: Matchday 5 </td><td>K�benhavn</td></tr><tr><td> Group stage: Matchday 5 </td><td>Juventus</td></tr><tr><td> Group stage: Matchday 5 </td><td>Maccabi Haifa</td></tr><tr><td> Group stage: Matchday 5 </td><td>Rangers</td></tr><tr><td> Group stage: Matchday 5 </td><td>Viktoria Plze?</td></tr><tr><td> Group stage: Matchday 5 </td><td>Marseille</td></tr><tr><td> Group stage: Matchday 6 </td><td>Napoli</td></tr><tr><td> Group stage: Matchday 6 </td><td>Atletico Madrid</td></tr><tr><td> Group stage: Matchday 6 </td><td>Internazionale</td></tr><tr><td> Group stage: Matchday 6 </td><td>Salzburg</td></tr><tr><td> Group stage: Matchday 6 </td><td>Dinamo Zagreb</td></tr><tr><td>Group stage: Matchday 6 </td><td>Celtic</td></tr><tr><td>Group stage: Matchday 6 </td><td>Sevilla</td></tr><tr><td> Round of 16 first leg </td><td>Chelsea</td></tr><tr><td> Round of 16 first leg </td><td>Tottenham</td></tr><tr><td> Round of 16 first leg </td><td>FC Porto</td></tr><tr><td> Round of 16 second leg </td><td>Paris Saint-Germain</td></tr><tr><td> Round of 16 second leg </td><td>Dortmund</td></tr><tr><td> Round of 16 second leg </td><td>Eintracht Frankfurt</td></tr><tr><td> Round of 16 second leg </td><td>Liverpool</td></tr><tr><td> Round of 16 second leg </td><td>Leipzig</td></tr><tr><td> Quarter-finals first leg </td><td>Napoli</td></tr><tr><td> Quarter-finals first leg </td><td>Chelsea</td></tr><tr><td> Semi-finals second leg </td><td>Real Madrid</td></tr><tr><td> Semi-finals second leg </td><td>Milan</td></tr><tr><td> Final </td><td>Inter</td></tr></tbody></table></div>"
      ]
     },
     "metadata": {
      "application/vnd.databricks.v1+output": {
       "addedWidgets": {},
       "aggData": [],
       "aggError": "",
       "aggOverflow": false,
       "aggSchema": [],
       "aggSeriesLimitReached": false,
       "aggType": "",
       "arguments": {},
       "columnCustomDisplayInfos": {},
       "data": [
        [
         " Group stage: Matchday 1 ",
         "Chelsea"
        ],
        [
         " Group stage: Matchday 1 ",
         "K�benhavn"
        ],
        [
         " Group stage: Matchday 1 ",
         "Juventus"
        ],
        [
         " Group stage: Matchday 1 ",
         "Maccabi Haifa"
        ],
        [
         " Group stage: Matchday 1 ",
         "Rangers"
        ],
        [
         " Group stage: Matchday 1 ",
         "Liverpool"
        ],
        [
         " Group stage: Matchday 1 ",
         "Porto"
        ],
        [
         " Group stage: Matchday 1 ",
         "Bayer Leverkusen"
        ],
        [
         " Group stage: Matchday 1 ",
         "Viktoria Plze?"
        ],
        [
         " Group stage: Matchday 1 ",
         "Marseille"
        ],
        [
         " Group stage: Matchday 2 ",
         "Ajax"
        ],
        [
         " Group stage: Matchday 2 ",
         "Atletico Madrid"
        ],
        [
         " Group stage: Matchday 2 ",
         "Barcelona"
        ],
        [
         " Group stage: Matchday 2 ",
         "Tottenham Hotspur"
        ],
        [
         " Group stage: Matchday 2 ",
         "RB Leipzig"
        ],
        [
         " Group stage: Matchday 3 ",
         "Rangers"
        ],
        [
         " Group stage: Matchday 3 ",
         "Atletico Madrid"
        ],
        [
         " Group stage: Matchday 3 ",
         "Bayer Leverkusen"
        ],
        [
         " Group stage: Matchday 3 ",
         "Viktoria Plze?"
        ],
        [
         " Group stage: Matchday 3 ",
         "Barcelona"
        ],
        [
         " Group stage: Matchday 3 ",
         "Sporting CP"
        ],
        [
         " Group stage: Matchday 3 ",
         "Dinamo Zagreb"
        ],
        [
         " Group stage: Matchday 3 ",
         "AC Milan"
        ],
        [
         " Group stage: Matchday 3 ",
         "Celtic"
        ],
        [
         " Group stage: Matchday 3 ",
         "K�benhavn"
        ],
        [
         " Group stage: Matchday 3 ",
         "Maccabi Haifa"
        ],
        [
         " Group stage: Matchday 4 ",
         "Juventus"
        ],
        [
         " Group stage: Matchday 4 ",
         "Ajax"
        ],
        [
         " Group stage: Matchday 4 ",
         "Eintracht Frankfurt"
        ],
        [
         " Group stage: Matchday 5 ",
         "Real Madrid"
        ],
        [
         " Group stage: Matchday 5 ",
         "K�benhavn"
        ],
        [
         " Group stage: Matchday 5 ",
         "Juventus"
        ],
        [
         " Group stage: Matchday 5 ",
         "Maccabi Haifa"
        ],
        [
         " Group stage: Matchday 5 ",
         "Rangers"
        ],
        [
         " Group stage: Matchday 5 ",
         "Viktoria Plze?"
        ],
        [
         " Group stage: Matchday 5 ",
         "Marseille"
        ],
        [
         " Group stage: Matchday 6 ",
         "Napoli"
        ],
        [
         " Group stage: Matchday 6 ",
         "Atletico Madrid"
        ],
        [
         " Group stage: Matchday 6 ",
         "Internazionale"
        ],
        [
         " Group stage: Matchday 6 ",
         "Salzburg"
        ],
        [
         " Group stage: Matchday 6 ",
         "Dinamo Zagreb"
        ],
        [
         "Group stage: Matchday 6 ",
         "Celtic"
        ],
        [
         "Group stage: Matchday 6 ",
         "Sevilla"
        ],
        [
         " Round of 16 first leg ",
         "Chelsea"
        ],
        [
         " Round of 16 first leg ",
         "Tottenham"
        ],
        [
         " Round of 16 first leg ",
         "FC Porto"
        ],
        [
         " Round of 16 second leg ",
         "Paris Saint-Germain"
        ],
        [
         " Round of 16 second leg ",
         "Dortmund"
        ],
        [
         " Round of 16 second leg ",
         "Eintracht Frankfurt"
        ],
        [
         " Round of 16 second leg ",
         "Liverpool"
        ],
        [
         " Round of 16 second leg ",
         "Leipzig"
        ],
        [
         " Quarter-finals first leg ",
         "Napoli"
        ],
        [
         " Quarter-finals first leg ",
         "Chelsea"
        ],
        [
         " Semi-finals second leg ",
         "Real Madrid"
        ],
        [
         " Semi-finals second leg ",
         "Milan"
        ],
        [
         " Final ",
         "Inter"
        ]
       ],
       "datasetInfos": [],
       "dbfsResultPath": null,
       "isJsonSchema": true,
       "metadata": {},
       "overflow": false,
       "plotOptions": {
        "customPlotOptions": {},
        "displayType": "table",
        "pivotAggregation": null,
        "pivotColumns": null,
        "xColumns": null,
        "yColumns": null
       },
       "removedWidgets": [],
       "schema": [
        {
         "metadata": "{}",
         "name": "STAGE",
         "type": "\"string\""
        },
        {
         "metadata": "{}",
         "name": "TEAM_LOST",
         "type": "\"string\""
        }
       ],
       "type": "table"
      }
     },
     "output_type": "display_data"
    }
   ],
   "source": [
    "# se usara csv 2022\n",
    "#DUELS_WON_HOME\tduel win possession of ball - for home team\tNUMBER\n",
    "#DUELS_WON_AWAY\tduel win possession of ball - for away team\n",
    "#TEAM_HOME_SCORE\tTeam home score\tNUMBER\n",
    "#TEAM_AWAY_SCORE\tTeam away score\n",
    "\n",
    "\n",
    "#filtro los duelos que se ha ganado estan fuera de casa como en casa\n",
    "df2 = df2.filter((col(\"DUELS_WON_HOME\") > col(\"DUELS_WON_AWAY\"))& (col(\"TEAM_HOME_SCORE\") < col(\"TEAM_AWAY_SCORE\")) |  \n",
    "      ((col(\"DUELS_WON_AWAY\") > col(\"DUELS_WON_HOME\")) & (col(\"TEAM_AWAY_SCORE\") <col(\"TEAM_HOME_SCORE\"))) \n",
    ")\n",
    "\n",
    "df2 = df2.withColumn(\n",
    "  \"TEAM_LOST\",\n",
    "  when(col(\"TEAM_HOME_SCORE\") < col(\"TEAM_AWAY_SCORE\"), col(\"TEAM_NAME_HOME\"))  # Si el equipo local perdió\n",
    "    .otherwise(col(\"TEAM_NAME_AWAY\"))\n",
    ")\n",
    "# luego se agrega una columna donde hemos perdido \n",
    "df2 = df2.select(\n",
    "    \"STAGE\",\"TEAM_LOST\"\n",
    ")\n",
    "\n",
    "df2.display()"
   ]
  },
  {
   "cell_type": "code",
   "execution_count": 0,
   "metadata": {
    "application/vnd.databricks.v1+cell": {
     "cellMetadata": {
      "byteLimit": 2048000,
      "rowLimit": 10000
     },
     "inputWidgets": {},
     "nuid": "4156c600-54d5-4741-a952-4681244871cf",
     "showTitle": false,
     "tableResultSettingsMap": {},
     "title": ""
    }
   },
   "outputs": [],
   "source": [
    "df2.write.csv(\"/FileStore/caso_2/TEAM_WON_DUEL_LOST_GAME_STAGE_WISE.csv\", header=True)"
   ]
  }
 ],
 "metadata": {
  "application/vnd.databricks.v1+notebook": {
   "dashboards": [],
   "environmentMetadata": null,
   "language": "python",
   "notebookMetadata": {
    "pythonIndentUnit": 4
   },
   "notebookName": "Caso_2",
   "widgets": {}
  }
 },
 "nbformat": 4,
 "nbformat_minor": 0
}
